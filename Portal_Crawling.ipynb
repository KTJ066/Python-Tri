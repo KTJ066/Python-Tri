{
 "cells": [
  {
   "cell_type": "code",
   "execution_count": 2,
   "id": "9992b61e-9566-437b-b060-ce1c7562179b",
   "metadata": {},
   "outputs": [
    {
     "name": "stdout",
     "output_type": "stream",
     "text": [
      "<class 'pandas.core.frame.DataFrame'>\n"
     ]
    },
    {
     "data": {
      "text/html": [
       "<div>\n",
       "<style scoped>\n",
       "    .dataframe tbody tr th:only-of-type {\n",
       "        vertical-align: middle;\n",
       "    }\n",
       "\n",
       "    .dataframe tbody tr th {\n",
       "        vertical-align: top;\n",
       "    }\n",
       "\n",
       "    .dataframe thead th {\n",
       "        text-align: right;\n",
       "    }\n",
       "</style>\n",
       "<table border=\"1\" class=\"dataframe\">\n",
       "  <thead>\n",
       "    <tr style=\"text-align: right;\">\n",
       "      <th></th>\n",
       "      <th>년도</th>\n",
       "      <th>학기</th>\n",
       "      <th>전공신청학점</th>\n",
       "      <th>전공취득학점</th>\n",
       "      <th>총평점(증명용)</th>\n",
       "      <th>평점평균(증명용)</th>\n",
       "      <th>평점평균(전체)</th>\n",
       "      <th>환산점수(증명용)</th>\n",
       "      <th>석차증명용</th>\n",
       "    </tr>\n",
       "  </thead>\n",
       "  <tbody>\n",
       "    <tr>\n",
       "      <th>0</th>\n",
       "      <td>군복무중이수학점</td>\n",
       "      <td>계</td>\n",
       "      <td>3</td>\n",
       "      <td>3</td>\n",
       "      <td>0.0</td>\n",
       "      <td>0.00</td>\n",
       "      <td>0.00</td>\n",
       "      <td>0.0</td>\n",
       "      <td>NaN</td>\n",
       "    </tr>\n",
       "    <tr>\n",
       "      <th>1</th>\n",
       "      <td>2017</td>\n",
       "      <td>1</td>\n",
       "      <td>17</td>\n",
       "      <td>17</td>\n",
       "      <td>60.0</td>\n",
       "      <td>3.75</td>\n",
       "      <td>3.75</td>\n",
       "      <td>91.4</td>\n",
       "      <td>NaN</td>\n",
       "    </tr>\n",
       "    <tr>\n",
       "      <th>2</th>\n",
       "      <td>2017</td>\n",
       "      <td>2</td>\n",
       "      <td>21</td>\n",
       "      <td>21</td>\n",
       "      <td>77.5</td>\n",
       "      <td>3.88</td>\n",
       "      <td>3.88</td>\n",
       "      <td>92.9</td>\n",
       "      <td>NaN</td>\n",
       "    </tr>\n",
       "    <tr>\n",
       "      <th>3</th>\n",
       "      <td>2018</td>\n",
       "      <td>1</td>\n",
       "      <td>18</td>\n",
       "      <td>18</td>\n",
       "      <td>69.0</td>\n",
       "      <td>3.83</td>\n",
       "      <td>3.83</td>\n",
       "      <td>92.3</td>\n",
       "      <td>NaN</td>\n",
       "    </tr>\n",
       "    <tr>\n",
       "      <th>4</th>\n",
       "      <td>2018</td>\n",
       "      <td>여름계절</td>\n",
       "      <td>3</td>\n",
       "      <td>3</td>\n",
       "      <td>12.0</td>\n",
       "      <td>4.00</td>\n",
       "      <td>4.00</td>\n",
       "      <td>94.3</td>\n",
       "      <td>NaN</td>\n",
       "    </tr>\n",
       "    <tr>\n",
       "      <th>5</th>\n",
       "      <td>2018</td>\n",
       "      <td>2</td>\n",
       "      <td>15</td>\n",
       "      <td>15</td>\n",
       "      <td>57.0</td>\n",
       "      <td>3.80</td>\n",
       "      <td>3.80</td>\n",
       "      <td>92.0</td>\n",
       "      <td>NaN</td>\n",
       "    </tr>\n",
       "    <tr>\n",
       "      <th>6</th>\n",
       "      <td>계</td>\n",
       "      <td>계</td>\n",
       "      <td>77</td>\n",
       "      <td>77</td>\n",
       "      <td>275.5</td>\n",
       "      <td>3.83</td>\n",
       "      <td>3.83</td>\n",
       "      <td>92.3</td>\n",
       "      <td>NaN</td>\n",
       "    </tr>\n",
       "  </tbody>\n",
       "</table>\n",
       "</div>"
      ],
      "text/plain": [
       "         년도    학기  전공신청학점  전공취득학점  총평점(증명용)  평점평균(증명용)  평점평균(전체)  환산점수(증명용)  \\\n",
       "0  군복무중이수학점     계       3       3       0.0       0.00      0.00        0.0   \n",
       "1      2017     1      17      17      60.0       3.75      3.75       91.4   \n",
       "2      2017     2      21      21      77.5       3.88      3.88       92.9   \n",
       "3      2018     1      18      18      69.0       3.83      3.83       92.3   \n",
       "4      2018  여름계절       3       3      12.0       4.00      4.00       94.3   \n",
       "5      2018     2      15      15      57.0       3.80      3.80       92.0   \n",
       "6         계     계      77      77     275.5       3.83      3.83       92.3   \n",
       "\n",
       "   석차증명용  \n",
       "0    NaN  \n",
       "1    NaN  \n",
       "2    NaN  \n",
       "3    NaN  \n",
       "4    NaN  \n",
       "5    NaN  \n",
       "6    NaN  "
      ]
     },
     "execution_count": 2,
     "metadata": {},
     "output_type": "execute_result"
    }
   ],
   "source": [
    "import requests\n",
    "from bs4 import BeautifulSoup ##html 싹 가져와주는 애\n",
    "from selenium import webdriver ##웹드라이버 돌려주는애\n",
    "import pandas as pd\n",
    "import time\n",
    "\n",
    "webdriver_options = webdriver.ChromeOptions()\n",
    "webdriver_options.add_argument('headless') ##창 띄우지 만 상태에서 알아서 해라\n",
    "webdriver_options.add_argument('window-size=1920x1080') ## 창 사이즈 지정해줘야 렉 안 먹음\n",
    "webdriver_options.add_argument(\"disable-gpu\") ##크롬드라이버가 gpu 부스터를 쓰기 때문에 가끔렉 먹는거 방지용\n",
    "webdriver_options.add_argument(\"lang=ko-KR\") ##위에 코드 3개가 쓰면 영어로 전체를 돌려버려서 언어 한국말로 바꿔주기\n",
    "\n",
    "driver = webdriver.Chrome('/Users/jonghyunkim/Downloads/chromedriver', options=webdriver_options) ##위에 정한 옵션으로 크롬을 실행하라\n",
    "\n",
    "url = 'https://portal.korea.ac.kr/front/Intro.kpd'\n",
    "driver.implicitly_wait(3) ## 드라이버 실행까지 시간이 좀 있으니 기다려 주는 역할\n",
    "driver.get(url)\n",
    "# driver.maximize_window() ## 창 전체화면 하기\n",
    "\n",
    "##로그인 하기 \n",
    "driver.find_element_by_name('id').send_keys('stanley41')\n",
    "driver.find_element_by_name('pw').send_keys('crimson9841')\n",
    "driver.find_element_by_xpath('//*[@id=\"loginsubmit\"]').click()\n",
    "\n",
    "driver.implicitly_wait(5) ## 로딩도 안됐는데 xpath 클릭하면 에러 뜨니까 기다려주는 역할\n",
    "driver.find_element_by_xpath('//*[@id=\"header\"]/div[2]/div/div/ul/li[4]/a').click() ##학적 졸업 클릭\n",
    "\n",
    "driver.find_element_by_xpath('//*[@id=\"m126\"]/a').click() ##성적사항 클릭\n",
    "driver.find_element_by_xpath('//*[@id=\"sm280\"]/a').click() ##전체성적 조회 클릭\n",
    "\n",
    "time.sleep(3) ## 잠시 기다려!\n",
    "\n",
    "driver.switch_to.frame('_component') ## iframe 안에 있어서 테이블이 있어서 탐색이 안되는 문제를 해결 --> 이 경우는 iframe 안에 이름이 _component라서 그렇게 찾아준거\n",
    "\n",
    "soup = BeautifulSoup(driver.page_source, 'lxml') ## parsing 한거\n",
    "\n",
    "\n",
    "## 이제 표들에서 데이터를 끌어와야 한다\n",
    "element_table = soup.find_all(name='table')\n",
    "table = pd.read_html(str(element_table))\n",
    "\n",
    "\n",
    "driver.quit()\n",
    "\n",
    "print(type(table[0]))\n",
    "table[1]"
   ]
  },
  {
   "cell_type": "code",
   "execution_count": 3,
   "id": "f1db993b-7986-4a38-be43-88f90e09df8d",
   "metadata": {},
   "outputs": [],
   "source": [
    "table[0].to_excel('성적확정자료.xlsx')"
   ]
  },
  {
   "cell_type": "code",
   "execution_count": 78,
   "id": "72d516df-4ba7-4a6c-b750-2ae0e7bf26d8",
   "metadata": {},
   "outputs": [],
   "source": [
    "driver.find_element_by_xpath('//*[@id=\"m127\"]/a').click() ##졸업정보"
   ]
  },
  {
   "cell_type": "code",
   "execution_count": 79,
   "id": "ba68cd0c-9e3c-40fd-b642-028689f33c1c",
   "metadata": {},
   "outputs": [],
   "source": [
    "driver.find_element_by_xpath('//*[@id=\"sm286\"]/a').click()##졸업요구조건 조회"
   ]
  },
  {
   "cell_type": "code",
   "execution_count": 80,
   "id": "ef6d6923-bc53-44db-a58a-35f594433423",
   "metadata": {},
   "outputs": [],
   "source": [
    "##요구조건 뽑아오기"
   ]
  },
  {
   "cell_type": "code",
   "execution_count": 97,
   "id": "a1197461-dd1d-47c5-a095-3df51cdc2b4f",
   "metadata": {},
   "outputs": [],
   "source": [
    "driver.find_element_by_xpath('//*[@id=\"sm289\"]/a').click()##졸업사정표 클릭"
   ]
  },
  {
   "cell_type": "code",
   "execution_count": 98,
   "id": "17757936-7f31-493c-87ce-f07c33924848",
   "metadata": {},
   "outputs": [],
   "source": [
    "##졸업사정표 누르니까 팝업이 뜨는데 키보드로 엔터를 누를 필요가 있으나 어떻게 하는지 모르겠음 - 해결\n",
    "from selenium.webdriver.common.alert import Alert ##경고창 뜨는거 제어하는 Alert 함수 불러오기\n",
    "Alert(driver).accept() ##경고창에 확인버튼 눌러주는 역할\n"
   ]
  },
  {
   "cell_type": "code",
   "execution_count": null,
   "id": "4369dec5-6f58-4ae5-810e-d14ab32f6561",
   "metadata": {},
   "outputs": [],
   "source": [
    "pd.read_html() ##안에 어떻게 넣어야 할까"
   ]
  },
  {
   "cell_type": "code",
   "execution_count": 6,
   "id": "d3a452b8-fb59-43a6-9ebe-c2c958dd1c23",
   "metadata": {},
   "outputs": [
    {
     "ename": "NameError",
     "evalue": "name 'driver' is not defined",
     "output_type": "error",
     "traceback": [
      "\u001b[0;31m---------------------------------------------------------------------------\u001b[0m",
      "\u001b[0;31mNameError\u001b[0m                                 Traceback (most recent call last)",
      "\u001b[0;32m/var/folders/3m/s0ysqyzs3fb_mcgvm4wjzt3w0000gn/T/ipykernel_27691/1804977156.py\u001b[0m in \u001b[0;36m<module>\u001b[0;34m\u001b[0m\n\u001b[0;32m----> 1\u001b[0;31m \u001b[0mhelp\u001b[0m\u001b[0;34m(\u001b[0m\u001b[0mdriver\u001b[0m\u001b[0;34m)\u001b[0m\u001b[0;34m\u001b[0m\u001b[0;34m\u001b[0m\u001b[0m\n\u001b[0m",
      "\u001b[0;31mNameError\u001b[0m: name 'driver' is not defined"
     ]
    }
   ],
   "source": []
  },
  {
   "cell_type": "code",
   "execution_count": null,
   "id": "511b7d10-768b-4738-964e-9b06c17cecca",
   "metadata": {},
   "outputs": [],
   "source": []
  }
 ],
 "metadata": {
  "kernelspec": {
   "display_name": "Python 3 (ipykernel)",
   "language": "python",
   "name": "python3"
  },
  "language_info": {
   "codemirror_mode": {
    "name": "ipython",
    "version": 3
   },
   "file_extension": ".py",
   "mimetype": "text/x-python",
   "name": "python",
   "nbconvert_exporter": "python",
   "pygments_lexer": "ipython3",
   "version": "3.9.7"
  }
 },
 "nbformat": 4,
 "nbformat_minor": 5
}
