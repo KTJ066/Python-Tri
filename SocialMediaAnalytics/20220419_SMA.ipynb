{
 "cells": [
  {
   "cell_type": "code",
   "execution_count": 1,
   "id": "9461ac03-fe22-4a9a-a6fe-38bf9221853d",
   "metadata": {},
   "outputs": [],
   "source": [
    "text1 = \"It's an amazing experience here\""
   ]
  },
  {
   "cell_type": "code",
   "execution_count": 3,
   "id": "368bcc27-c4a0-4b51-a2a7-7210965f7446",
   "metadata": {},
   "outputs": [],
   "source": [
    "text1_s = text1.split(\" \")"
   ]
  },
  {
   "cell_type": "code",
   "execution_count": 4,
   "id": "c2713cc0-ff75-4290-84d4-d820370ca5ea",
   "metadata": {},
   "outputs": [
    {
     "data": {
      "text/plain": [
       "[\"It's\", 'an', 'amazing', 'experience', 'here']"
      ]
     },
     "execution_count": 4,
     "metadata": {},
     "output_type": "execute_result"
    }
   ],
   "source": [
    "text1_s"
   ]
  },
  {
   "cell_type": "code",
   "execution_count": 5,
   "id": "445a76b5-49d3-4f5c-a2e5-b561374cf406",
   "metadata": {},
   "outputs": [],
   "source": [
    "from nltk.tokenize import word_tokenize"
   ]
  },
  {
   "cell_type": "code",
   "execution_count": 6,
   "id": "97407a3f-0688-4708-986f-17db633bb2f7",
   "metadata": {},
   "outputs": [],
   "source": [
    "import nltk"
   ]
  },
  {
   "cell_type": "code",
   "execution_count": 9,
   "id": "c2a2be04-20de-469f-80b0-03dd130f04a6",
   "metadata": {},
   "outputs": [
    {
     "name": "stderr",
     "output_type": "stream",
     "text": [
      "[nltk_data] Downloading package punkt to\n",
      "[nltk_data]     /Users/jonghyunkim/nltk_data...\n",
      "[nltk_data]   Unzipping tokenizers/punkt.zip.\n"
     ]
    },
    {
     "data": {
      "text/plain": [
       "True"
      ]
     },
     "execution_count": 9,
     "metadata": {},
     "output_type": "execute_result"
    }
   ],
   "source": [
    "nltk.download(\"punkt\")"
   ]
  },
  {
   "cell_type": "code",
   "execution_count": 11,
   "id": "0c31547a-af88-4087-b317-e246285c7240",
   "metadata": {},
   "outputs": [
    {
     "data": {
      "text/plain": [
       "['It', \"'s\", 'an', 'amazing', 'experience', 'here']"
      ]
     },
     "execution_count": 11,
     "metadata": {},
     "output_type": "execute_result"
    }
   ],
   "source": [
    "text1_t = word_tokenize(text1)\n",
    "text1_t"
   ]
  },
  {
   "cell_type": "code",
   "execution_count": 12,
   "id": "05abd988-2995-4cb1-9976-caea76b19387",
   "metadata": {},
   "outputs": [],
   "source": [
    "text2 = \"For the price (almost $200 U.S. w/tip) I want to be wowed. My steak was over cooked.\""
   ]
  },
  {
   "cell_type": "code",
   "execution_count": 13,
   "id": "c5f73b7b-9489-4a32-b121-658953bc59c4",
   "metadata": {},
   "outputs": [],
   "source": [
    "text2_s = text2.split(\".\")"
   ]
  },
  {
   "cell_type": "code",
   "execution_count": 16,
   "id": "4525d6e5-5885-4e87-a500-3ddbe2d93569",
   "metadata": {},
   "outputs": [
    {
     "data": {
      "text/plain": [
       "['For the price (almost $200 U',\n",
       " 'S',\n",
       " ' w/tip) I want to be wowed',\n",
       " ' My steak was over cooked',\n",
       " '']"
      ]
     },
     "execution_count": 16,
     "metadata": {},
     "output_type": "execute_result"
    }
   ],
   "source": [
    "text2_s"
   ]
  },
  {
   "cell_type": "code",
   "execution_count": 17,
   "id": "ceaccbb3-e998-43be-a510-e350dd8d5ced",
   "metadata": {},
   "outputs": [],
   "source": [
    "from nltk.tokenize import sent_tokenize"
   ]
  },
  {
   "cell_type": "code",
   "execution_count": 18,
   "id": "13c99a5a-40fd-40a8-b503-420e40ff0a8d",
   "metadata": {},
   "outputs": [],
   "source": [
    "text2_t = sent_tokenize(text2)"
   ]
  },
  {
   "cell_type": "code",
   "execution_count": 19,
   "id": "9a05542f-fbed-4d34-875e-d0914b58bdfc",
   "metadata": {},
   "outputs": [
    {
     "data": {
      "text/plain": [
       "['For the price (almost $200 U.S. w/tip) I want to be wowed.',\n",
       " 'My steak was over cooked.']"
      ]
     },
     "execution_count": 19,
     "metadata": {},
     "output_type": "execute_result"
    }
   ],
   "source": [
    "text2_t"
   ]
  },
  {
   "cell_type": "code",
   "execution_count": null,
   "id": "9c8d9b0f-1646-4166-aad4-08c24ea5e7d3",
   "metadata": {},
   "outputs": [],
   "source": []
  },
  {
   "cell_type": "code",
   "execution_count": 20,
   "id": "a7354ebf-6d94-4728-859c-b78049c0e88f",
   "metadata": {},
   "outputs": [],
   "source": [
    "word1 = \"ouagadougou\""
   ]
  },
  {
   "cell_type": "code",
   "execution_count": 21,
   "id": "7bed8b3e-c559-4d88-91e3-be0257e11c9f",
   "metadata": {},
   "outputs": [
    {
     "data": {
      "text/plain": [
       "['', 'agad', 'g', '']"
      ]
     },
     "execution_count": 21,
     "metadata": {},
     "output_type": "execute_result"
    }
   ],
   "source": [
    "word2 = word1.split(\"ou\")\n",
    "word2"
   ]
  },
  {
   "cell_type": "code",
   "execution_count": 25,
   "id": "30e738db-81f2-4a55-9dd6-a3aa918b781f",
   "metadata": {},
   "outputs": [
    {
     "data": {
      "text/plain": [
       "' agad g '"
      ]
     },
     "execution_count": 25,
     "metadata": {},
     "output_type": "execute_result"
    }
   ],
   "source": [
    "word3 = \" \".join(word2)\n",
    "word3"
   ]
  },
  {
   "cell_type": "code",
   "execution_count": 27,
   "id": "f4dba019-f51d-4f43-981d-92c74c19d34f",
   "metadata": {},
   "outputs": [
    {
     "data": {
      "text/plain": [
       "'ouagadougou'"
      ]
     },
     "execution_count": 27,
     "metadata": {},
     "output_type": "execute_result"
    }
   ],
   "source": [
    "word4 = \"ou\".join(word2)\n",
    "word4"
   ]
  },
  {
   "cell_type": "code",
   "execution_count": null,
   "id": "4e116fa8-49c1-4cca-92a0-a36cdb085584",
   "metadata": {},
   "outputs": [],
   "source": []
  }
 ],
 "metadata": {
  "kernelspec": {
   "display_name": "Python 3 (ipykernel)",
   "language": "python",
   "name": "python3"
  },
  "language_info": {
   "codemirror_mode": {
    "name": "ipython",
    "version": 3
   },
   "file_extension": ".py",
   "mimetype": "text/x-python",
   "name": "python",
   "nbconvert_exporter": "python",
   "pygments_lexer": "ipython3",
   "version": "3.9.7"
  }
 },
 "nbformat": 4,
 "nbformat_minor": 5
}
