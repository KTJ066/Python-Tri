{
 "cells": [
  {
   "cell_type": "code",
   "execution_count": 2,
   "id": "f7b72521-a4a2-4dae-b7b6-0202e3373c56",
   "metadata": {},
   "outputs": [],
   "source": [
    "from bs4 import BeautifulSoup\n",
    "import urllib.request as req"
   ]
  },
  {
   "cell_type": "code",
   "execution_count": 4,
   "id": "f3b0bbe8-6d3d-43a7-97b1-c9225054db10",
   "metadata": {},
   "outputs": [],
   "source": [
    "url = 'https://www.opentable.com/r/the-woo-new-york'\n",
    "html = req.urlopen(url)\n",
    "doc = BeautifulSoup(html, 'html.parser')"
   ]
  },
  {
   "cell_type": "code",
   "execution_count": 17,
   "id": "97be024a-8cb1-4b34-b2d3-48ac015ee7da",
   "metadata": {
    "tags": []
   },
   "outputs": [
    {
     "data": {
      "text/plain": [
       "['I am a fan of Woo Lae Oak and have been patiently waiting to try The Woo. Food is just as good.',\n",
       " 'Very yummy and piping hot! I loved the food and would recommend!']"
      ]
     },
     "execution_count": 17,
     "metadata": {},
     "output_type": "execute_result"
    }
   ],
   "source": [
    "reviews = [doc.find_all(class_ = 't9JcvSL3Bsj1lxMSi3pz h_kb2PFOoyZe1skyGiz9 Ti64w3n01MDTYZb59n6Q')[n].text for n in [3,4]]\n",
    "reviews"
   ]
  },
  {
   "cell_type": "code",
   "execution_count": 18,
   "id": "5c9a77dc-5be8-4785-86fe-ec225225410e",
   "metadata": {},
   "outputs": [],
   "source": [
    "from sklearn.feature_extraction.text import CountVectorizer"
   ]
  },
  {
   "cell_type": "code",
   "execution_count": 19,
   "id": "b28a3834-3808-4c13-93d7-caa48a75739a",
   "metadata": {},
   "outputs": [],
   "source": [
    "cv = CountVectorizer(lowercase=True, stop_words=\"english\") ##convert everything to lowercase letter, delete stopwords in english"
   ]
  },
  {
   "cell_type": "code",
   "execution_count": 20,
   "id": "8e8926f4-fd9f-495e-9dbe-87e3e2cd7046",
   "metadata": {},
   "outputs": [],
   "source": [
    "cv_reviews = cv.fit_transform(reviews)"
   ]
  },
  {
   "cell_type": "code",
   "execution_count": 21,
   "id": "043679b9-7cb0-4621-b24a-8f0ce256b693",
   "metadata": {},
   "outputs": [
    {
     "data": {
      "text/plain": [
       "array([[1, 1, 1, 0, 1, 1, 0, 1, 1, 0, 0, 1, 1, 2, 0],\n",
       "       [0, 1, 0, 1, 0, 0, 1, 0, 0, 1, 1, 0, 0, 0, 1]])"
      ]
     },
     "execution_count": 21,
     "metadata": {},
     "output_type": "execute_result"
    }
   ],
   "source": [
    "cv_reviews.toarray()"
   ]
  },
  {
   "cell_type": "code",
   "execution_count": 22,
   "id": "2244d709-0430-4c48-953a-198e29aa7f7a",
   "metadata": {},
   "outputs": [],
   "source": [
    "cv_terms = cv.get_feature_names()"
   ]
  },
  {
   "cell_type": "code",
   "execution_count": 23,
   "id": "fde37e76-b2f2-4924-b600-dc88a574eadf",
   "metadata": {},
   "outputs": [
    {
     "name": "stdout",
     "output_type": "stream",
     "text": [
      "['fan', 'food', 'good', 'hot', 'just', 'lae', 'loved', 'oak', 'patiently', 'piping', 'recommend', 'try', 'waiting', 'woo', 'yummy']\n"
     ]
    }
   ],
   "source": [
    "print(cv_terms)"
   ]
  },
  {
   "cell_type": "code",
   "execution_count": 24,
   "id": "1a170861-33c7-4a83-8211-b3084bc1b715",
   "metadata": {},
   "outputs": [],
   "source": [
    "import pandas as pd"
   ]
  },
  {
   "cell_type": "code",
   "execution_count": 27,
   "id": "34fa4aea-d0ed-43b1-bc0c-35bff7af12c3",
   "metadata": {},
   "outputs": [
    {
     "data": {
      "text/html": [
       "<div>\n",
       "<style scoped>\n",
       "    .dataframe tbody tr th:only-of-type {\n",
       "        vertical-align: middle;\n",
       "    }\n",
       "\n",
       "    .dataframe tbody tr th {\n",
       "        vertical-align: top;\n",
       "    }\n",
       "\n",
       "    .dataframe thead th {\n",
       "        text-align: right;\n",
       "    }\n",
       "</style>\n",
       "<table border=\"1\" class=\"dataframe\">\n",
       "  <thead>\n",
       "    <tr style=\"text-align: right;\">\n",
       "      <th></th>\n",
       "      <th>fan</th>\n",
       "      <th>food</th>\n",
       "      <th>good</th>\n",
       "      <th>hot</th>\n",
       "      <th>just</th>\n",
       "      <th>lae</th>\n",
       "      <th>loved</th>\n",
       "      <th>oak</th>\n",
       "      <th>patiently</th>\n",
       "      <th>piping</th>\n",
       "      <th>recommend</th>\n",
       "      <th>try</th>\n",
       "      <th>waiting</th>\n",
       "      <th>woo</th>\n",
       "      <th>yummy</th>\n",
       "    </tr>\n",
       "  </thead>\n",
       "  <tbody>\n",
       "    <tr>\n",
       "      <th>0</th>\n",
       "      <td>1</td>\n",
       "      <td>1</td>\n",
       "      <td>1</td>\n",
       "      <td>0</td>\n",
       "      <td>1</td>\n",
       "      <td>1</td>\n",
       "      <td>0</td>\n",
       "      <td>1</td>\n",
       "      <td>1</td>\n",
       "      <td>0</td>\n",
       "      <td>0</td>\n",
       "      <td>1</td>\n",
       "      <td>1</td>\n",
       "      <td>2</td>\n",
       "      <td>0</td>\n",
       "    </tr>\n",
       "    <tr>\n",
       "      <th>1</th>\n",
       "      <td>0</td>\n",
       "      <td>1</td>\n",
       "      <td>0</td>\n",
       "      <td>1</td>\n",
       "      <td>0</td>\n",
       "      <td>0</td>\n",
       "      <td>1</td>\n",
       "      <td>0</td>\n",
       "      <td>0</td>\n",
       "      <td>1</td>\n",
       "      <td>1</td>\n",
       "      <td>0</td>\n",
       "      <td>0</td>\n",
       "      <td>0</td>\n",
       "      <td>1</td>\n",
       "    </tr>\n",
       "  </tbody>\n",
       "</table>\n",
       "</div>"
      ],
      "text/plain": [
       "   fan  food  good  hot  just  lae  loved  oak  patiently  piping  recommend  \\\n",
       "0    1     1     1    0     1    1      0    1          1       0          0   \n",
       "1    0     1     0    1     0    0      1    0          0       1          1   \n",
       "\n",
       "   try  waiting  woo  yummy  \n",
       "0    1        1    2      0  \n",
       "1    0        0    0      1  "
      ]
     },
     "execution_count": 27,
     "metadata": {},
     "output_type": "execute_result"
    }
   ],
   "source": [
    "pd.DataFrame(cv_reviews.toarray(), columns=cv_terms)"
   ]
  },
  {
   "cell_type": "code",
   "execution_count": 28,
   "id": "00798c09-9f75-4f7f-9aea-01986ea68c73",
   "metadata": {},
   "outputs": [],
   "source": [
    "from nltk.corpus import stopwords"
   ]
  },
  {
   "cell_type": "code",
   "execution_count": 29,
   "id": "8d1cd19d-3d78-43cb-9d86-02f5af35fd83",
   "metadata": {},
   "outputs": [],
   "source": [
    "nltk_stopwords = stopwords.words(\"english\")"
   ]
  },
  {
   "cell_type": "code",
   "execution_count": 30,
   "id": "112f903d-6e21-413a-ab4c-a195489f0342",
   "metadata": {},
   "outputs": [
    {
     "name": "stdout",
     "output_type": "stream",
     "text": [
      "['i', 'me', 'my', 'myself', 'we', 'our', 'ours', 'ourselves', 'you', \"you're\", \"you've\", \"you'll\", \"you'd\", 'your', 'yours', 'yourself', 'yourselves', 'he', 'him', 'his', 'himself', 'she', \"she's\", 'her', 'hers', 'herself', 'it', \"it's\", 'its', 'itself', 'they', 'them', 'their', 'theirs', 'themselves', 'what', 'which', 'who', 'whom', 'this', 'that', \"that'll\", 'these', 'those', 'am', 'is', 'are', 'was', 'were', 'be', 'been', 'being', 'have', 'has', 'had', 'having', 'do', 'does', 'did', 'doing', 'a', 'an', 'the', 'and', 'but', 'if', 'or', 'because', 'as', 'until', 'while', 'of', 'at', 'by', 'for', 'with', 'about', 'against', 'between', 'into', 'through', 'during', 'before', 'after', 'above', 'below', 'to', 'from', 'up', 'down', 'in', 'out', 'on', 'off', 'over', 'under', 'again', 'further', 'then', 'once', 'here', 'there', 'when', 'where', 'why', 'how', 'all', 'any', 'both', 'each', 'few', 'more', 'most', 'other', 'some', 'such', 'no', 'nor', 'not', 'only', 'own', 'same', 'so', 'than', 'too', 'very', 's', 't', 'can', 'will', 'just', 'don', \"don't\", 'should', \"should've\", 'now', 'd', 'll', 'm', 'o', 're', 've', 'y', 'ain', 'aren', \"aren't\", 'couldn', \"couldn't\", 'didn', \"didn't\", 'doesn', \"doesn't\", 'hadn', \"hadn't\", 'hasn', \"hasn't\", 'haven', \"haven't\", 'isn', \"isn't\", 'ma', 'mightn', \"mightn't\", 'mustn', \"mustn't\", 'needn', \"needn't\", 'shan', \"shan't\", 'shouldn', \"shouldn't\", 'wasn', \"wasn't\", 'weren', \"weren't\", 'won', \"won't\", 'wouldn', \"wouldn't\"]\n"
     ]
    }
   ],
   "source": [
    "print(nltk_stopwords)"
   ]
  },
  {
   "cell_type": "code",
   "execution_count": 31,
   "id": "caaa1bb7-a084-45ac-a0a2-4e774cd1d180",
   "metadata": {},
   "outputs": [],
   "source": [
    "from sklearn.feature_extraction import text"
   ]
  },
  {
   "cell_type": "code",
   "execution_count": 33,
   "id": "ccc1adc7-1906-42bf-b6d7-8a6c4d699b20",
   "metadata": {},
   "outputs": [],
   "source": [
    "sklearn_stopwords = text.ENGLISH_STOP_WORDS"
   ]
  },
  {
   "cell_type": "code",
   "execution_count": 34,
   "id": "817e7806-451b-40b2-9e11-0066be062dfa",
   "metadata": {},
   "outputs": [
    {
     "name": "stdout",
     "output_type": "stream",
     "text": [
      "frozenset({'thereupon', 'whose', 'only', 'any', 'have', 'everything', 'namely', 'beyond', 'each', 'again', 'me', 'must', 'against', 'eight', 'bottom', 'someone', 'give', 'cry', 'de', 'neither', 'she', 'should', 'too', 'into', 'further', 'about', 'therefore', 'part', 'along', 'somehow', 'he', 'then', 'thence', 'some', 'most', 'couldnt', 'become', 'though', 'around', 'eleven', 'moreover', 'who', 'fire', 'my', 'latter', 'seemed', 'next', 'else', 'nothing', 'another', 'is', 'him', 'over', 'sincere', 'under', 'whereby', 'not', 'thus', 'etc', 'herein', 'be', 'although', 'more', 'onto', 'see', 'done', 'ten', 'beforehand', 'here', 'anywhere', 'without', 'and', 'if', 'own', 'mostly', 'to', 'cant', 'that', 'her', 'via', 'these', 'hereupon', 'thick', 'bill', 'due', 'afterwards', 'what', 'whatever', 'such', 'they', 'back', 'all', 'one', 'less', 'nowhere', 'now', 'yourself', 'full', 'formerly', 'we', 'wherein', 'was', 'sixty', 'seems', 'whoever', 'thereby', 'much', 'six', 'thin', 'would', 'by', 'down', 'something', 'until', 'system', 'how', 'amoungst', 'the', 'show', 'but', 'fill', 'between', 'besides', 'un', 'his', 'front', 'top', 'sometimes', 'from', 'enough', 'seeming', 'found', 'get', 'there', 'everyone', 'made', 'nor', 'mill', 'twelve', 'whence', 'amount', 'name', 'out', 'could', 'once', 'this', 'no', 're', 'can', 'con', 'them', 'nevertheless', 'forty', 'during', 'their', 'beside', 'same', 'alone', 'ours', 'whenever', 'thru', 'up', 'often', 'than', 'myself', 'at', 'former', 'whereupon', 'both', 'fifty', 'you', 'twenty', 'hereby', 'last', 'indeed', 'nobody', 'move', 'hundred', 'your', 'except', 'hence', 'do', 'call', 'put', 'already', 'wherever', 'every', 'may', 'others', 'since', 'none', 'keep', 'below', 'ie', 'hereafter', 'hasnt', 'above', 'amongst', 'throughout', 'several', 'anyone', 'fifteen', 'on', 'meanwhile', 'after', 'which', 'ourselves', 'yours', 'very', 'through', 'perhaps', 'are', 'eg', 'hers', 'almost', 'had', 'has', 'our', 'in', 'empty', 'always', 'describe', 'however', 'yet', 'together', 'rather', 'also', 'three', 'an', 'many', 'of', 'those', 'within', 'somewhere', 'third', 'two', 'being', 'detail', 'am', 'across', 'so', 'per', 'take', 'where', 'anything', 'anyway', 'thereafter', 'never', 'anyhow', 'whereafter', 'whether', 'as', 'its', 'five', 'please', 'might', 'us', 'yourselves', 'becoming', 'few', 'everywhere', 'otherwise', 'ever', 'sometime', 'i', 'latterly', 'therein', 'towards', 'will', 'serious', 'been', 'while', 'either', 'off', 'elsewhere', 'whither', 'whereas', 'find', 'well', 'before', 'cannot', 'co', 'least', 'whom', 'nine', 'seem', 'were', 'four', 'a', 'it', 'other', 'whole', 'himself', 'mine', 'behind', 'noone', 'among', 'first', 'go', 'when', 'themselves', 'side', 'still', 'why', 'toward', 'itself', 'becomes', 'interest', 'even', 'for', 'ltd', 'upon', 'became', 'because', 'inc', 'or', 'herself', 'with'})\n"
     ]
    }
   ],
   "source": [
    "print(sklearn_stopwords) ##it is already defined as a set. so we don't need to 'union' just combine"
   ]
  },
  {
   "cell_type": "code",
   "execution_count": 35,
   "id": "3a9f010a-f818-449a-b7e9-ef99dc8114fd",
   "metadata": {},
   "outputs": [],
   "source": [
    "my_stopwords = [\"woo\", \"lae\", \"oak\"]"
   ]
  },
  {
   "cell_type": "code",
   "execution_count": 36,
   "id": "66989d69-7f83-427a-8c22-1c474fb28ef9",
   "metadata": {},
   "outputs": [],
   "source": [
    "new_stopwords = sklearn_stopwords.union(my_stopwords)"
   ]
  },
  {
   "cell_type": "code",
   "execution_count": 37,
   "id": "e2dbb858-f714-4578-9dad-39ecf5d52a2f",
   "metadata": {},
   "outputs": [],
   "source": [
    "cv = CountVectorizer(lowercase=True, stop_words=new_stopwords)"
   ]
  },
  {
   "cell_type": "code",
   "execution_count": 39,
   "id": "6b812c51-9777-40a8-be02-0fd21e9b4e83",
   "metadata": {},
   "outputs": [],
   "source": [
    "cv_reviews = cv.fit_transform(reviews)"
   ]
  },
  {
   "cell_type": "code",
   "execution_count": 40,
   "id": "bc888a42-587c-4a2b-a8d4-60abc10f8a00",
   "metadata": {},
   "outputs": [],
   "source": [
    "cv_terms = cv.get_feature_names()"
   ]
  },
  {
   "cell_type": "code",
   "execution_count": 41,
   "id": "ab731ed9-6318-44df-bf99-b270696cb590",
   "metadata": {},
   "outputs": [
    {
     "data": {
      "text/html": [
       "<div>\n",
       "<style scoped>\n",
       "    .dataframe tbody tr th:only-of-type {\n",
       "        vertical-align: middle;\n",
       "    }\n",
       "\n",
       "    .dataframe tbody tr th {\n",
       "        vertical-align: top;\n",
       "    }\n",
       "\n",
       "    .dataframe thead th {\n",
       "        text-align: right;\n",
       "    }\n",
       "</style>\n",
       "<table border=\"1\" class=\"dataframe\">\n",
       "  <thead>\n",
       "    <tr style=\"text-align: right;\">\n",
       "      <th></th>\n",
       "      <th>fan</th>\n",
       "      <th>food</th>\n",
       "      <th>good</th>\n",
       "      <th>hot</th>\n",
       "      <th>just</th>\n",
       "      <th>loved</th>\n",
       "      <th>patiently</th>\n",
       "      <th>piping</th>\n",
       "      <th>recommend</th>\n",
       "      <th>try</th>\n",
       "      <th>waiting</th>\n",
       "      <th>yummy</th>\n",
       "    </tr>\n",
       "  </thead>\n",
       "  <tbody>\n",
       "    <tr>\n",
       "      <th>0</th>\n",
       "      <td>1</td>\n",
       "      <td>1</td>\n",
       "      <td>1</td>\n",
       "      <td>0</td>\n",
       "      <td>1</td>\n",
       "      <td>0</td>\n",
       "      <td>1</td>\n",
       "      <td>0</td>\n",
       "      <td>0</td>\n",
       "      <td>1</td>\n",
       "      <td>1</td>\n",
       "      <td>0</td>\n",
       "    </tr>\n",
       "    <tr>\n",
       "      <th>1</th>\n",
       "      <td>0</td>\n",
       "      <td>1</td>\n",
       "      <td>0</td>\n",
       "      <td>1</td>\n",
       "      <td>0</td>\n",
       "      <td>1</td>\n",
       "      <td>0</td>\n",
       "      <td>1</td>\n",
       "      <td>1</td>\n",
       "      <td>0</td>\n",
       "      <td>0</td>\n",
       "      <td>1</td>\n",
       "    </tr>\n",
       "  </tbody>\n",
       "</table>\n",
       "</div>"
      ],
      "text/plain": [
       "   fan  food  good  hot  just  loved  patiently  piping  recommend  try  \\\n",
       "0    1     1     1    0     1      0          1       0          0    1   \n",
       "1    0     1     0    1     0      1          0       1          1    0   \n",
       "\n",
       "   waiting  yummy  \n",
       "0        1      0  \n",
       "1        0      1  "
      ]
     },
     "execution_count": 41,
     "metadata": {},
     "output_type": "execute_result"
    }
   ],
   "source": [
    "pd.DataFrame(cv_reviews.toarray(), columns=cv_terms)"
   ]
  },
  {
   "cell_type": "code",
   "execution_count": 42,
   "id": "eeed05fd-7115-4f17-a46e-e55d3d0438e1",
   "metadata": {},
   "outputs": [],
   "source": [
    "##Stemming"
   ]
  },
  {
   "cell_type": "code",
   "execution_count": 43,
   "id": "efb13bc6-672b-4540-986f-15bb70197d6c",
   "metadata": {},
   "outputs": [],
   "source": [
    "from nltk.stem import PorterStemmer"
   ]
  },
  {
   "cell_type": "code",
   "execution_count": 46,
   "id": "d070f832-555f-49bc-84f9-794bb1ce0c61",
   "metadata": {},
   "outputs": [],
   "source": [
    "ps = PorterStemmer()"
   ]
  },
  {
   "cell_type": "code",
   "execution_count": 47,
   "id": "37df5fcd-3472-46c2-93c1-8965491ef187",
   "metadata": {},
   "outputs": [],
   "source": [
    "cv1 = CountVectorizer(lowercase=True, stop_words=new_stopwords).build_analyzer()"
   ]
  },
  {
   "cell_type": "code",
   "execution_count": 48,
   "id": "ce98747e-3fe6-476f-9899-49f67f9f845f",
   "metadata": {},
   "outputs": [],
   "source": [
    "def stem(x):\n",
    "    return (ps.stem(w) for w in cv1(x))"
   ]
  },
  {
   "cell_type": "code",
   "execution_count": 49,
   "id": "81f2ba50-d628-4fe5-a7bc-c6d41b7aaca1",
   "metadata": {},
   "outputs": [],
   "source": [
    "cv2 = CountVectorizer(analyzer = stem)"
   ]
  },
  {
   "cell_type": "code",
   "execution_count": 50,
   "id": "87c23480-035b-4953-a1c1-409befc9ede7",
   "metadata": {},
   "outputs": [],
   "source": [
    "new_cv_reviews = cv2.fit_transform(reviews)"
   ]
  },
  {
   "cell_type": "code",
   "execution_count": 51,
   "id": "5e6e11a2-d108-449a-b07c-bf0af9f88812",
   "metadata": {},
   "outputs": [
    {
     "data": {
      "text/plain": [
       "array([[1, 1, 1, 0, 1, 0, 1, 0, 0, 1, 1, 0],\n",
       "       [0, 1, 0, 1, 0, 1, 0, 1, 1, 0, 0, 1]])"
      ]
     },
     "execution_count": 51,
     "metadata": {},
     "output_type": "execute_result"
    }
   ],
   "source": [
    "new_cv_reviews.toarray()"
   ]
  },
  {
   "cell_type": "code",
   "execution_count": 52,
   "id": "15f76a9c-5097-4f1f-a40d-76ce63b3f4e8",
   "metadata": {},
   "outputs": [],
   "source": [
    "new_cv_terms = cv2.get_feature_names()"
   ]
  },
  {
   "cell_type": "code",
   "execution_count": 53,
   "id": "7b5f0d68-2566-4f92-ae7a-8715b74ff7c6",
   "metadata": {},
   "outputs": [
    {
     "data": {
      "text/html": [
       "<div>\n",
       "<style scoped>\n",
       "    .dataframe tbody tr th:only-of-type {\n",
       "        vertical-align: middle;\n",
       "    }\n",
       "\n",
       "    .dataframe tbody tr th {\n",
       "        vertical-align: top;\n",
       "    }\n",
       "\n",
       "    .dataframe thead th {\n",
       "        text-align: right;\n",
       "    }\n",
       "</style>\n",
       "<table border=\"1\" class=\"dataframe\">\n",
       "  <thead>\n",
       "    <tr style=\"text-align: right;\">\n",
       "      <th></th>\n",
       "      <th>fan</th>\n",
       "      <th>food</th>\n",
       "      <th>good</th>\n",
       "      <th>hot</th>\n",
       "      <th>just</th>\n",
       "      <th>love</th>\n",
       "      <th>patient</th>\n",
       "      <th>pipe</th>\n",
       "      <th>recommend</th>\n",
       "      <th>tri</th>\n",
       "      <th>wait</th>\n",
       "      <th>yummi</th>\n",
       "    </tr>\n",
       "  </thead>\n",
       "  <tbody>\n",
       "    <tr>\n",
       "      <th>0</th>\n",
       "      <td>1</td>\n",
       "      <td>1</td>\n",
       "      <td>1</td>\n",
       "      <td>0</td>\n",
       "      <td>1</td>\n",
       "      <td>0</td>\n",
       "      <td>1</td>\n",
       "      <td>0</td>\n",
       "      <td>0</td>\n",
       "      <td>1</td>\n",
       "      <td>1</td>\n",
       "      <td>0</td>\n",
       "    </tr>\n",
       "    <tr>\n",
       "      <th>1</th>\n",
       "      <td>0</td>\n",
       "      <td>1</td>\n",
       "      <td>0</td>\n",
       "      <td>1</td>\n",
       "      <td>0</td>\n",
       "      <td>1</td>\n",
       "      <td>0</td>\n",
       "      <td>1</td>\n",
       "      <td>1</td>\n",
       "      <td>0</td>\n",
       "      <td>0</td>\n",
       "      <td>1</td>\n",
       "    </tr>\n",
       "  </tbody>\n",
       "</table>\n",
       "</div>"
      ],
      "text/plain": [
       "   fan  food  good  hot  just  love  patient  pipe  recommend  tri  wait  \\\n",
       "0    1     1     1    0     1     0        1     0          0    1     1   \n",
       "1    0     1     0    1     0     1        0     1          1    0     0   \n",
       "\n",
       "   yummi  \n",
       "0      0  \n",
       "1      1  "
      ]
     },
     "execution_count": 53,
     "metadata": {},
     "output_type": "execute_result"
    }
   ],
   "source": [
    "pd.DataFrame(new_cv_reviews.toarray(), columns=new_cv_terms)"
   ]
  },
  {
   "cell_type": "code",
   "execution_count": 54,
   "id": "7c1d05f5-9c5d-444d-a4bf-3e86c61ee01a",
   "metadata": {},
   "outputs": [],
   "source": [
    "##My Tokenizer - stem 보다 교수님이 선호하는건 My tokenizer b/c 내가 무슨일이 일어나는지 파악하고 개량할 수 있으니까"
   ]
  },
  {
   "cell_type": "code",
   "execution_count": 55,
   "id": "316c32fc-9774-48b2-a348-f706f487c02e",
   "metadata": {},
   "outputs": [],
   "source": [
    "from nltk.tokenize import word_tokenize"
   ]
  },
  {
   "cell_type": "code",
   "execution_count": 56,
   "id": "db5d0706-d106-4fe3-b4f5-dab2c2e7598a",
   "metadata": {},
   "outputs": [],
   "source": [
    "def my_tokenizer(r):\n",
    "    r1 = word_tokenize(r)\n",
    "    r2 = [w.lower() for w in r1 if w.isalpha()]\n",
    "    r3 = [w for w in r2 if not w in new_stopwords]\n",
    "    r4 = [ps.stem(w) for w in r3]\n",
    "    return r4"
   ]
  },
  {
   "cell_type": "code",
   "execution_count": 57,
   "id": "b1900214-8cb3-4f4d-a37b-06dc53aa5831",
   "metadata": {},
   "outputs": [],
   "source": [
    "cv = CountVectorizer(tokenizer = my_tokenizer) ##위에 내가 만든 함수를 토큰화 장치로 사용하라"
   ]
  },
  {
   "cell_type": "code",
   "execution_count": 58,
   "id": "455995b1-f526-4bba-b585-b57d55f37c8e",
   "metadata": {},
   "outputs": [],
   "source": [
    "cv_reviews = cv.fit_transform(reviews)"
   ]
  },
  {
   "cell_type": "code",
   "execution_count": 59,
   "id": "ec502e2a-61ef-4e40-8c68-5489bc1bc225",
   "metadata": {},
   "outputs": [
    {
     "data": {
      "text/plain": [
       "array([[1, 1, 1, 0, 1, 0, 1, 0, 0, 1, 1, 0],\n",
       "       [0, 1, 0, 1, 0, 1, 0, 1, 1, 0, 0, 1]])"
      ]
     },
     "execution_count": 59,
     "metadata": {},
     "output_type": "execute_result"
    }
   ],
   "source": [
    "cv_reviews.toarray()"
   ]
  },
  {
   "cell_type": "code",
   "execution_count": 60,
   "id": "6faca3db-8d5d-4824-aa79-6923d4aa83a0",
   "metadata": {},
   "outputs": [],
   "source": [
    "cv_terms = cv.get_feature_names()"
   ]
  },
  {
   "cell_type": "code",
   "execution_count": 61,
   "id": "85be4000-4fff-4cd7-85f9-8e28392ecd3e",
   "metadata": {},
   "outputs": [
    {
     "data": {
      "text/html": [
       "<div>\n",
       "<style scoped>\n",
       "    .dataframe tbody tr th:only-of-type {\n",
       "        vertical-align: middle;\n",
       "    }\n",
       "\n",
       "    .dataframe tbody tr th {\n",
       "        vertical-align: top;\n",
       "    }\n",
       "\n",
       "    .dataframe thead th {\n",
       "        text-align: right;\n",
       "    }\n",
       "</style>\n",
       "<table border=\"1\" class=\"dataframe\">\n",
       "  <thead>\n",
       "    <tr style=\"text-align: right;\">\n",
       "      <th></th>\n",
       "      <th>fan</th>\n",
       "      <th>food</th>\n",
       "      <th>good</th>\n",
       "      <th>hot</th>\n",
       "      <th>just</th>\n",
       "      <th>love</th>\n",
       "      <th>patient</th>\n",
       "      <th>pipe</th>\n",
       "      <th>recommend</th>\n",
       "      <th>tri</th>\n",
       "      <th>wait</th>\n",
       "      <th>yummi</th>\n",
       "    </tr>\n",
       "  </thead>\n",
       "  <tbody>\n",
       "    <tr>\n",
       "      <th>0</th>\n",
       "      <td>1</td>\n",
       "      <td>1</td>\n",
       "      <td>1</td>\n",
       "      <td>0</td>\n",
       "      <td>1</td>\n",
       "      <td>0</td>\n",
       "      <td>1</td>\n",
       "      <td>0</td>\n",
       "      <td>0</td>\n",
       "      <td>1</td>\n",
       "      <td>1</td>\n",
       "      <td>0</td>\n",
       "    </tr>\n",
       "    <tr>\n",
       "      <th>1</th>\n",
       "      <td>0</td>\n",
       "      <td>1</td>\n",
       "      <td>0</td>\n",
       "      <td>1</td>\n",
       "      <td>0</td>\n",
       "      <td>1</td>\n",
       "      <td>0</td>\n",
       "      <td>1</td>\n",
       "      <td>1</td>\n",
       "      <td>0</td>\n",
       "      <td>0</td>\n",
       "      <td>1</td>\n",
       "    </tr>\n",
       "  </tbody>\n",
       "</table>\n",
       "</div>"
      ],
      "text/plain": [
       "   fan  food  good  hot  just  love  patient  pipe  recommend  tri  wait  \\\n",
       "0    1     1     1    0     1     0        1     0          0    1     1   \n",
       "1    0     1     0    1     0     1        0     1          1    0     0   \n",
       "\n",
       "   yummi  \n",
       "0      0  \n",
       "1      1  "
      ]
     },
     "execution_count": 61,
     "metadata": {},
     "output_type": "execute_result"
    }
   ],
   "source": [
    "pd.DataFrame(cv_reviews.toarray(), columns = cv_terms)"
   ]
  },
  {
   "cell_type": "code",
   "execution_count": null,
   "id": "55400ad7-663b-48b4-814f-60fce8602cbf",
   "metadata": {},
   "outputs": [],
   "source": []
  }
 ],
 "metadata": {
  "kernelspec": {
   "display_name": "Python 3 (ipykernel)",
   "language": "python",
   "name": "python3"
  },
  "language_info": {
   "codemirror_mode": {
    "name": "ipython",
    "version": 3
   },
   "file_extension": ".py",
   "mimetype": "text/x-python",
   "name": "python",
   "nbconvert_exporter": "python",
   "pygments_lexer": "ipython3",
   "version": "3.9.7"
  }
 },
 "nbformat": 4,
 "nbformat_minor": 5
}
