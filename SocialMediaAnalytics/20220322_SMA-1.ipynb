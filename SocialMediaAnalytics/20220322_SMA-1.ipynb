{
 "cells": [
  {
   "cell_type": "code",
   "execution_count": 13,
   "id": "05a1049d-1ec0-41ff-93ee-4501f0ff0f7b",
   "metadata": {},
   "outputs": [],
   "source": [
    "# \n",
    "# 1. html1\n",
    "html1 = '''<html>\n",
    "    <body>\n",
    "        <h1>Heading</h1>\n",
    "        <p>1st paragraph</p>\n",
    "        <p>2nd paragraph</p>\n",
    "    </body>\n",
    "</html>'''"
   ]
  },
  {
   "cell_type": "code",
   "execution_count": 14,
   "id": "664e12cb-1a8d-435d-9d8d-ec391edf30f0",
   "metadata": {},
   "outputs": [
    {
     "data": {
      "text/plain": [
       "'Heading'"
      ]
     },
     "execution_count": 14,
     "metadata": {},
     "output_type": "execute_result"
    }
   ],
   "source": [
    "from bs4 import BeautifulSoup\n",
    "\n",
    "doc1 = BeautifulSoup(html1, 'html.parser')\n",
    "\n",
    "h1 = doc1.html.body.h1\n",
    "\n",
    "h1.string"
   ]
  },
  {
   "cell_type": "code",
   "execution_count": 15,
   "id": "f4e9fcdb-c914-440c-8036-af83f63a723d",
   "metadata": {},
   "outputs": [],
   "source": [
    "# 2. html2\n",
    "html2 = '''<html>\n",
    "    <body>\n",
    "        <h1 id=\"title\">Heading</h1>\n",
    "        <p id=\"body1\">1st paragraph</p>\n",
    "        <p id=\"body2\">2nd paragraph</p>\n",
    "    </body>\n",
    "</html>'''"
   ]
  },
  {
   "cell_type": "code",
   "execution_count": 16,
   "id": "e3ccb010-bd3e-4a94-acfb-b2f250cc2c2b",
   "metadata": {},
   "outputs": [
    {
     "data": {
      "text/plain": [
       "('1st paragraph', '1st paragraph')"
      ]
     },
     "execution_count": 16,
     "metadata": {},
     "output_type": "execute_result"
    }
   ],
   "source": [
    "from bs4 import BeautifulSoup\n",
    "\n",
    "doc2 = BeautifulSoup(html2, 'html.parser')\n",
    "\n",
    "p = doc2.find('p')\n",
    "p.string, p.text"
   ]
  },
  {
   "cell_type": "code",
   "execution_count": 17,
   "id": "fa20f1ac-5c65-44ab-9f87-e72a52f48b2f",
   "metadata": {},
   "outputs": [],
   "source": [
    "# 3. html3\n",
    "html3 = '''<html>\n",
    "    <body>\n",
    "        <h1 id=\"title\">Heading</h1>\n",
    "        <p class=\"body\">1st paragraph</p>\n",
    "        <p class=\"body\">2nd paragraph</p>\n",
    "    </body>\n",
    "</html>'''"
   ]
  },
  {
   "cell_type": "code",
   "execution_count": 18,
   "id": "2e9ecf67-ff99-4fd5-9efd-0ffb28684f7c",
   "metadata": {},
   "outputs": [
    {
     "data": {
      "text/plain": [
       "<p class=\"body\">1st paragraph</p>"
      ]
     },
     "execution_count": 18,
     "metadata": {},
     "output_type": "execute_result"
    }
   ],
   "source": [
    "from bs4 import BeautifulSoup\n",
    "\n",
    "doc3 = BeautifulSoup(html3, 'html.parser')\n",
    "\n",
    "body = doc3.find(class_='body')\n",
    "body"
   ]
  },
  {
   "cell_type": "code",
   "execution_count": 28,
   "id": "94a44a67-49da-45b8-89aa-580b7d803f5c",
   "metadata": {},
   "outputs": [],
   "source": [
    "# 4. html4\n",
    "html4 = '''<html>\n",
    "    <body>\n",
    "        <p>\n",
    "            <a href=\"https://www.korea.ac.kr/\">KU</a>\n",
    "            <a href=\"https://biz.korea.ac.kr/\">KUBS</a>\n",
    "        </p>\n",
    "    </body>\n",
    "</html>'''"
   ]
  },
  {
   "cell_type": "code",
   "execution_count": 29,
   "id": "80f698d3-7798-4f27-bcac-477c69b2cc5a",
   "metadata": {},
   "outputs": [],
   "source": [
    "from bs4 import BeautifulSoup\n",
    "\n",
    "doc1 = BeautifulSoup(html4, 'html.parser')"
   ]
  },
  {
   "cell_type": "code",
   "execution_count": 134,
   "id": "630cae14-68b9-42d9-86b9-493a2ec58abc",
   "metadata": {},
   "outputs": [],
   "source": [
    "url = \"http://www.byungwan.com/class/Example.html\""
   ]
  },
  {
   "cell_type": "code",
   "execution_count": 135,
   "id": "3be1193c-8f3d-4e4d-ba3a-fbd92adc83ba",
   "metadata": {},
   "outputs": [],
   "source": [
    "import urllib.request as req"
   ]
  },
  {
   "cell_type": "code",
   "execution_count": 136,
   "id": "096aeb9f-1ef1-4812-967b-443005cf70ea",
   "metadata": {},
   "outputs": [],
   "source": [
    "html = req.urlopen(url)"
   ]
  },
  {
   "cell_type": "code",
   "execution_count": 137,
   "id": "f75307a1-6582-4acc-b6c6-e0c9f94332ba",
   "metadata": {},
   "outputs": [
    {
     "name": "stdout",
     "output_type": "stream",
     "text": [
      "<html>\n",
      " <head>\n",
      "  <title>\n",
      "   Example page\n",
      "  </title>\n",
      " </head>\n",
      " <body>\n",
      "  <p>\n",
      "   Example content 1\n",
      "  </p>\n",
      "  <p>\n",
      "   Example content 2\n",
      "  </p>\n",
      "  <p>\n",
      "   <a href=\"https://www.naver.com/\">\n",
      "    Naver\n",
      "   </a>\n",
      "   <a href=\"https://www.daum.net/\">\n",
      "    Daum\n",
      "   </a>\n",
      "  </p>\n",
      " </body>\n",
      "</html>\n"
     ]
    }
   ],
   "source": [
    "doc = BeautifulSoup(html, 'html.parser')\n",
    "print(doc.prettify())"
   ]
  },
  {
   "cell_type": "code",
   "execution_count": 116,
   "id": "aaf91c0e-208f-455a-b0c5-9d8c49c799c7",
   "metadata": {},
   "outputs": [
    {
     "data": {
      "text/plain": [
       "'Example content 1'"
      ]
     },
     "execution_count": 116,
     "metadata": {},
     "output_type": "execute_result"
    }
   ],
   "source": [
    "ps = doc.find_all('p')\n",
    "ps[0].string"
   ]
  },
  {
   "cell_type": "code",
   "execution_count": 117,
   "id": "05792009-1fcf-4df7-8a87-0f0a1dac9b8a",
   "metadata": {},
   "outputs": [
    {
     "data": {
      "text/plain": [
       "[<p>Example content 1</p>,\n",
       " <p>Example content 2</p>,\n",
       " <p>\n",
       " <a href=\"https://www.naver.com/\">Naver</a>\n",
       " <a href=\"https://www.daum.net/\">Daum</a>\n",
       " </p>]"
      ]
     },
     "execution_count": 117,
     "metadata": {},
     "output_type": "execute_result"
    }
   ],
   "source": [
    "doc.find_all(\"p\")\n",
    "ps"
   ]
  },
  {
   "cell_type": "code",
   "execution_count": 118,
   "id": "e2fe9847-0ab1-4236-8c2c-19e71331fb85",
   "metadata": {},
   "outputs": [
    {
     "data": {
      "text/plain": [
       "'Example content 1'"
      ]
     },
     "execution_count": 118,
     "metadata": {},
     "output_type": "execute_result"
    }
   ],
   "source": [
    "ps[0].string"
   ]
  },
  {
   "cell_type": "code",
   "execution_count": 119,
   "id": "0f0e5420-b2ae-4fe5-b1f6-ecc75ae6d17e",
   "metadata": {},
   "outputs": [
    {
     "data": {
      "text/plain": [
       "'Example content 2'"
      ]
     },
     "execution_count": 119,
     "metadata": {},
     "output_type": "execute_result"
    }
   ],
   "source": [
    "ps[1].string"
   ]
  },
  {
   "cell_type": "code",
   "execution_count": 120,
   "id": "04c4ec0e-32d6-4dab-a5c2-69fccf44b17c",
   "metadata": {},
   "outputs": [
    {
     "name": "stdout",
     "output_type": "stream",
     "text": [
      "Example content 1\n",
      "Example content 2\n"
     ]
    }
   ],
   "source": [
    "for p in ps[0:2]:\n",
    "    print(p.string)"
   ]
  },
  {
   "cell_type": "code",
   "execution_count": 121,
   "id": "40c2efd5-b782-4f57-aa8c-0d65aeff944b",
   "metadata": {},
   "outputs": [
    {
     "data": {
      "text/plain": [
       "[<p>Example content 1</p>, <p>Example content 2</p>]"
      ]
     },
     "execution_count": 121,
     "metadata": {},
     "output_type": "execute_result"
    }
   ],
   "source": [
    "ps[0:2]"
   ]
  },
  {
   "cell_type": "code",
   "execution_count": 122,
   "id": "c4756124-46f9-47ed-b5a1-d2e0dc2652ad",
   "metadata": {},
   "outputs": [
    {
     "data": {
      "text/plain": [
       "[<a href=\"https://www.naver.com/\">Naver</a>,\n",
       " <a href=\"https://www.daum.net/\">Daum</a>]"
      ]
     },
     "execution_count": 122,
     "metadata": {},
     "output_type": "execute_result"
    }
   ],
   "source": [
    "links = doc.find_all(\"a\")\n",
    "links"
   ]
  },
  {
   "cell_type": "code",
   "execution_count": 123,
   "id": "20177530-abdd-49e1-91f6-f6dcc6115503",
   "metadata": {},
   "outputs": [
    {
     "data": {
      "text/plain": [
       "'Naver'"
      ]
     },
     "execution_count": 123,
     "metadata": {},
     "output_type": "execute_result"
    }
   ],
   "source": [
    "links[0].string"
   ]
  },
  {
   "cell_type": "code",
   "execution_count": 124,
   "id": "4c700fbd-13d8-4bdd-9fa6-cbdf529f24c4",
   "metadata": {},
   "outputs": [
    {
     "data": {
      "text/plain": [
       "'https://www.naver.com/'"
      ]
     },
     "execution_count": 124,
     "metadata": {},
     "output_type": "execute_result"
    }
   ],
   "source": [
    "links[0].attrs[\"href\"]"
   ]
  },
  {
   "cell_type": "code",
   "execution_count": 125,
   "id": "4f3df786-cfb9-4954-81e2-c2d86c06e5f6",
   "metadata": {},
   "outputs": [
    {
     "data": {
      "text/plain": [
       "'https://www.naver.com/'"
      ]
     },
     "execution_count": 125,
     "metadata": {},
     "output_type": "execute_result"
    }
   ],
   "source": [
    "links[0][\"href\"]"
   ]
  },
  {
   "cell_type": "code",
   "execution_count": 126,
   "id": "1749d088-43db-4db9-b888-82d5fac5984d",
   "metadata": {},
   "outputs": [
    {
     "name": "stdout",
     "output_type": "stream",
     "text": [
      "Naver: https://www.naver.com/\n",
      "Daum: https://www.daum.net/\n"
     ]
    }
   ],
   "source": [
    "for l in links:\n",
    "    name = l.string\n",
    "    url = l[\"href\"]\n",
    "    print(name + \": \" + url)"
   ]
  },
  {
   "cell_type": "code",
   "execution_count": 127,
   "id": "e5f6e14a-a880-45a1-9216-6205b0398071",
   "metadata": {},
   "outputs": [],
   "source": [
    "url = 'http://www.byungwan.com/class/Assignment0.html'\n"
   ]
  },
  {
   "cell_type": "code",
   "execution_count": 133,
   "id": "f99bd80d-0184-4694-a57b-c7d36a963cd2",
   "metadata": {},
   "outputs": [],
   "source": [
    "html = req.urlopen(url)"
   ]
  },
  {
   "cell_type": "code",
   "execution_count": 128,
   "id": "e6d0ed92-8705-476e-a04e-f8909d5aaa9b",
   "metadata": {},
   "outputs": [],
   "source": [
    "import urllib.request as req"
   ]
  },
  {
   "cell_type": "code",
   "execution_count": 129,
   "id": "d5031f8b-abc5-457a-bf0e-112dffd2ca60",
   "metadata": {},
   "outputs": [
    {
     "data": {
      "text/plain": [
       "<http.client.HTTPResponse at 0x7fd410052850>"
      ]
     },
     "execution_count": 129,
     "metadata": {},
     "output_type": "execute_result"
    }
   ],
   "source": [
    "doc = BeautifulSoup(html, 'html.parser')\n"
   ]
  },
  {
   "cell_type": "code",
   "execution_count": null,
   "id": "a089f44d-330f-404b-8771-ffa41f4a9a32",
   "metadata": {},
   "outputs": [],
   "source": []
  },
  {
   "cell_type": "code",
   "execution_count": null,
   "id": "5b1544fa-5d6c-4262-9a86-9a738959f6b3",
   "metadata": {},
   "outputs": [],
   "source": []
  }
 ],
 "metadata": {
  "kernelspec": {
   "display_name": "Python 3 (ipykernel)",
   "language": "python",
   "name": "python3"
  },
  "language_info": {
   "codemirror_mode": {
    "name": "ipython",
    "version": 3
   },
   "file_extension": ".py",
   "mimetype": "text/x-python",
   "name": "python",
   "nbconvert_exporter": "python",
   "pygments_lexer": "ipython3",
   "version": "3.9.7"
  }
 },
 "nbformat": 4,
 "nbformat_minor": 5
}
