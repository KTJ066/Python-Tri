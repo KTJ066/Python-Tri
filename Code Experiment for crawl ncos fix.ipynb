{
 "cells": [
  {
   "cell_type": "code",
   "execution_count": 1,
   "id": "b605ecab-a439-402f-9479-fd6793ffad43",
   "metadata": {},
   "outputs": [],
   "source": [
    "from bs4 import BeautifulSoup\n",
    "from selenium import webdriver\n",
    "from selenium.webdriver.chrome.service import Service\n",
    "from selenium.webdriver.common.by import By\n",
    "import pandas as pd\n",
    "from selenium.webdriver.common.keys import Keys\n",
    "from time import sleep"
   ]
  },
  {
   "cell_type": "code",
   "execution_count": 5,
   "id": "6d784162-2f62-4608-9994-ed893c3e91a7",
   "metadata": {},
   "outputs": [],
   "source": [
    "#Before loop\n",
    "New_deaths_of_80s = []\n",
    "New_deaths_of_70s = []\n",
    "New_deaths_of_60s = []\n",
    "New_deaths_of_50s = []\n",
    "New_deaths_of_40s = []\n",
    "New_deaths_of_30s = []\n",
    "New_deaths_of_20s = []\n",
    "New_deaths_of_10s = []\n",
    "New_deaths_of_00s = []\n",
    "Total_years_lost = []\n",
    "Lostwealth = []\n",
    "\n",
    "#To make sure it's clear\n",
    "thisweek_dead00s_total = 0\n",
    "thisweek_dead10s_total = 0\n",
    "thisweek_dead20s_total = 0\n",
    "thisweek_dead30s_total = 0\n",
    "thisweek_dead40s_total = 0\n",
    "thisweek_dead50s_total = 0\n",
    "thisweek_dead60s_total = 0\n",
    "thisweek_dead70s_total = 0\n",
    "thisweek_dead80s_total = 0\n",
    "\n",
    "# Define variables\n",
    "GDP_per_capita = 31489.12\n",
    "remaining_lifeexpectancy_85 = 6.9\n",
    "remaining_lifeexpectancy_75 = 13.3\n",
    "remaining_lifeexpectancy_65 = 21.5\n",
    "remaining_lifeexpectancy_55 = 30.4\n",
    "remaining_lifeexpectancy_45 = 39.6\n",
    "remaining_lifeexpectancy_35 = 49.2\n",
    "remaining_lifeexpectancy_25 = 59.0\n",
    "remaining_lifeexpectancy_15 = 68.8\n",
    "remaining_lifeexpectancy_05 = 78.7\n",
    "\n",
    "# Generate urls\n",
    "time = pd.date_range(start=\"2021-12-25\", periods=16, freq= \"w-Sat\")\n",
    "driver = webdriver.Chrome('/Users/jonghyunkim/repo/Tristan/chromedriver')\n",
    "\n",
    "x = time[0].strftime(\"%Y%m%d\")\n",
    "url = \"http://web.archive.org/web/\" + x + \"/http:/ncov.mohw.go.kr/bdBoardList_Real.do?brdId=1&brdGubun=11&ncvContSeq=&contSeq=&board_id=&gubun=\""
   ]
  },
  {
   "cell_type": "code",
   "execution_count": 6,
   "id": "e03e80a5-804c-42cc-8491-f3d20e007257",
   "metadata": {},
   "outputs": [
    {
     "data": {
      "text/plain": [
       "'http://web.archive.org/web/20211225/http:/ncov.mohw.go.kr/bdBoardList_Real.do?brdId=1&brdGubun=11&ncvContSeq=&contSeq=&board_id=&gubun='"
      ]
     },
     "execution_count": 6,
     "metadata": {},
     "output_type": "execute_result"
    }
   ],
   "source": [
    "url"
   ]
  },
  {
   "cell_type": "code",
   "execution_count": 7,
   "id": "4651905c-ed3f-4583-b074-46108f80e14d",
   "metadata": {},
   "outputs": [
    {
     "data": {
      "text/html": [
       "<div>\n",
       "<style scoped>\n",
       "    .dataframe tbody tr th:only-of-type {\n",
       "        vertical-align: middle;\n",
       "    }\n",
       "\n",
       "    .dataframe tbody tr th {\n",
       "        vertical-align: top;\n",
       "    }\n",
       "\n",
       "    .dataframe thead th {\n",
       "        text-align: right;\n",
       "    }\n",
       "</style>\n",
       "<table border=\"1\" class=\"dataframe\">\n",
       "  <thead>\n",
       "    <tr style=\"text-align: right;\">\n",
       "      <th></th>\n",
       "      <th>구분</th>\n",
       "      <th>확진자(%)</th>\n",
       "      <th>사망자(%)</th>\n",
       "      <th>치명률(%)</th>\n",
       "    </tr>\n",
       "  </thead>\n",
       "  <tbody>\n",
       "    <tr>\n",
       "      <th>0</th>\n",
       "      <td>80 이상</td>\n",
       "      <td>19,970 (3.29)</td>\n",
       "      <td>2,663 (50.77)</td>\n",
       "      <td>13.34</td>\n",
       "    </tr>\n",
       "    <tr>\n",
       "      <th>1</th>\n",
       "      <td>70-79</td>\n",
       "      <td>37,364 (6.15)</td>\n",
       "      <td>1,403 (26.75)</td>\n",
       "      <td>3.75</td>\n",
       "    </tr>\n",
       "    <tr>\n",
       "      <th>2</th>\n",
       "      <td>60-69</td>\n",
       "      <td>86,717 (14.28)</td>\n",
       "      <td>798 (15.21)</td>\n",
       "      <td>0.92</td>\n",
       "    </tr>\n",
       "    <tr>\n",
       "      <th>3</th>\n",
       "      <td>50-59</td>\n",
       "      <td>88,506 (14.57)</td>\n",
       "      <td>260 (4.96)</td>\n",
       "      <td>0.29</td>\n",
       "    </tr>\n",
       "    <tr>\n",
       "      <th>4</th>\n",
       "      <td>40-49</td>\n",
       "      <td>88,674 (14.60)</td>\n",
       "      <td>72 (1.37)</td>\n",
       "      <td>0.08</td>\n",
       "    </tr>\n",
       "    <tr>\n",
       "      <th>5</th>\n",
       "      <td>30-39</td>\n",
       "      <td>88,337 (14.54)</td>\n",
       "      <td>34 (0.65)</td>\n",
       "      <td>0.04</td>\n",
       "    </tr>\n",
       "    <tr>\n",
       "      <th>6</th>\n",
       "      <td>20-29</td>\n",
       "      <td>91,673 (15.09)</td>\n",
       "      <td>12 (0.23)</td>\n",
       "      <td>0.01</td>\n",
       "    </tr>\n",
       "    <tr>\n",
       "      <th>7</th>\n",
       "      <td>10-19</td>\n",
       "      <td>60,288 (9.92)</td>\n",
       "      <td>0 (0.00)</td>\n",
       "      <td>0.00</td>\n",
       "    </tr>\n",
       "    <tr>\n",
       "      <th>8</th>\n",
       "      <td>0-9</td>\n",
       "      <td>45,934 (7.56)</td>\n",
       "      <td>3 (0.06)</td>\n",
       "      <td>0.01</td>\n",
       "    </tr>\n",
       "  </tbody>\n",
       "</table>\n",
       "</div>"
      ],
      "text/plain": [
       "      구분          확진자(%)         사망자(%)  치명률(%)\n",
       "0  80 이상   19,970 (3.29)  2,663 (50.77)   13.34\n",
       "1  70-79   37,364 (6.15)  1,403 (26.75)    3.75\n",
       "2  60-69  86,717 (14.28)    798 (15.21)    0.92\n",
       "3  50-59  88,506 (14.57)     260 (4.96)    0.29\n",
       "4  40-49  88,674 (14.60)      72 (1.37)    0.08\n",
       "5  30-39  88,337 (14.54)      34 (0.65)    0.04\n",
       "6  20-29  91,673 (15.09)      12 (0.23)    0.01\n",
       "7  10-19   60,288 (9.92)       0 (0.00)    0.00\n",
       "8    0-9   45,934 (7.56)       3 (0.06)    0.01"
      ]
     },
     "execution_count": 7,
     "metadata": {},
     "output_type": "execute_result"
    }
   ],
   "source": [
    "driver.get(url)\n",
    "sleep(5)\n",
    "thisweek_doc = BeautifulSoup(driver.page_source, \"html.parser\")\n",
    "element_table = thisweek_doc.find_all(name='table')\n",
    "tables = pd.read_html(str(element_table))\n",
    "table = tables[-1]\n",
    "table"
   ]
  },
  {
   "cell_type": "code",
   "execution_count": 27,
   "id": "7314147d-0346-464d-a7a4-05cd8896d0f1",
   "metadata": {},
   "outputs": [
    {
     "data": {
      "text/plain": [
       "'2,663'"
      ]
     },
     "execution_count": 27,
     "metadata": {},
     "output_type": "execute_result"
    }
   ],
   "source": [
    "death = table['사망자(%)']\n",
    "death = list(death)\n",
    "n_death = []\n",
    "for n in death:\n",
    "    s_death = n.split('\\xa0')\n",
    "    n_death.append(s_death[0])\n",
    "    \n",
    "int(n_death[0].replace(\",\",\"\"))\n",
    "n_death[0]\n"
   ]
  },
  {
   "cell_type": "code",
   "execution_count": 28,
   "id": "51ca8cd4-3d8a-47cd-981b-b1053e9a0a8f",
   "metadata": {},
   "outputs": [
    {
     "ename": "WebDriverException",
     "evalue": "Message: chrome not reachable\n  (Session info: chrome=100.0.4896.88)\n",
     "output_type": "error",
     "traceback": [
      "\u001b[0;31m---------------------------------------------------------------------------\u001b[0m",
      "\u001b[0;31mWebDriverException\u001b[0m                        Traceback (most recent call last)",
      "\u001b[0;32m/var/folders/3m/s0ysqyzs3fb_mcgvm4wjzt3w0000gn/T/ipykernel_3434/2051867362.py\u001b[0m in \u001b[0;36m<module>\u001b[0;34m\u001b[0m\n\u001b[0;32m----> 1\u001b[0;31m \u001b[0mthisweek_doc\u001b[0m \u001b[0;34m=\u001b[0m \u001b[0mBeautifulSoup\u001b[0m\u001b[0;34m(\u001b[0m\u001b[0mdriver\u001b[0m\u001b[0;34m.\u001b[0m\u001b[0mpage_source\u001b[0m\u001b[0;34m,\u001b[0m \u001b[0;34m\"html.parser\"\u001b[0m\u001b[0;34m)\u001b[0m\u001b[0;34m\u001b[0m\u001b[0;34m\u001b[0m\u001b[0m\n\u001b[0m\u001b[1;32m      2\u001b[0m \u001b[0mtables\u001b[0m \u001b[0;34m=\u001b[0m \u001b[0mthisweek_doc\u001b[0m\u001b[0;34m.\u001b[0m\u001b[0mfind_all\u001b[0m\u001b[0;34m(\u001b[0m\u001b[0mclass_\u001b[0m\u001b[0;34m=\u001b[0m\u001b[0;34m\"data_table\"\u001b[0m\u001b[0;34m)\u001b[0m\u001b[0;34m\u001b[0m\u001b[0;34m\u001b[0m\u001b[0m\n\u001b[1;32m      3\u001b[0m \u001b[0mtable\u001b[0m \u001b[0;34m=\u001b[0m \u001b[0mtables\u001b[0m\u001b[0;34m[\u001b[0m\u001b[0;34m-\u001b[0m\u001b[0;36m1\u001b[0m\u001b[0;34m]\u001b[0m\u001b[0;34m\u001b[0m\u001b[0;34m\u001b[0m\u001b[0m\n\u001b[1;32m      4\u001b[0m \u001b[0meighties\u001b[0m \u001b[0;34m=\u001b[0m  \u001b[0mdoc\u001b[0m\u001b[0;34m.\u001b[0m\u001b[0mfind_element\u001b[0m\u001b[0;34m(\u001b[0m\u001b[0mBy\u001b[0m\u001b[0;34m.\u001b[0m\u001b[0mXPATH\u001b[0m\u001b[0;34m,\u001b[0m \u001b[0;34m'//*[@id=\"content\"]/div/div[18]/table/tbody/tr[1]/td[2]/span[1]'\u001b[0m\u001b[0;34m)\u001b[0m\u001b[0;34m\u001b[0m\u001b[0;34m\u001b[0m\u001b[0m\n\u001b[1;32m      5\u001b[0m \u001b[0mseventies\u001b[0m \u001b[0;34m=\u001b[0m \u001b[0mdoc\u001b[0m\u001b[0;34m.\u001b[0m\u001b[0mfind_element\u001b[0m\u001b[0;34m(\u001b[0m\u001b[0mBy\u001b[0m\u001b[0;34m.\u001b[0m\u001b[0mXPATH\u001b[0m\u001b[0;34m,\u001b[0m \u001b[0;34m'//*[@id=\"content\"]/div/div[18]/table/tbody/tr[2]/td[2]/span[1]'\u001b[0m\u001b[0;34m)\u001b[0m\u001b[0;34m\u001b[0m\u001b[0;34m\u001b[0m\u001b[0m\n",
      "\u001b[0;32m/opt/anaconda3/lib/python3.9/site-packages/selenium/webdriver/remote/webdriver.py\u001b[0m in \u001b[0;36mpage_source\u001b[0;34m(self)\u001b[0m\n\u001b[1;32m    677\u001b[0m             \u001b[0mdriver\u001b[0m\u001b[0;34m.\u001b[0m\u001b[0mpage_source\u001b[0m\u001b[0;34m\u001b[0m\u001b[0;34m\u001b[0m\u001b[0m\n\u001b[1;32m    678\u001b[0m         \"\"\"\n\u001b[0;32m--> 679\u001b[0;31m         \u001b[0;32mreturn\u001b[0m \u001b[0mself\u001b[0m\u001b[0;34m.\u001b[0m\u001b[0mexecute\u001b[0m\u001b[0;34m(\u001b[0m\u001b[0mCommand\u001b[0m\u001b[0;34m.\u001b[0m\u001b[0mGET_PAGE_SOURCE\u001b[0m\u001b[0;34m)\u001b[0m\u001b[0;34m[\u001b[0m\u001b[0;34m'value'\u001b[0m\u001b[0;34m]\u001b[0m\u001b[0;34m\u001b[0m\u001b[0;34m\u001b[0m\u001b[0m\n\u001b[0m\u001b[1;32m    680\u001b[0m \u001b[0;34m\u001b[0m\u001b[0m\n\u001b[1;32m    681\u001b[0m     \u001b[0;32mdef\u001b[0m \u001b[0mclose\u001b[0m\u001b[0;34m(\u001b[0m\u001b[0mself\u001b[0m\u001b[0;34m)\u001b[0m\u001b[0;34m:\u001b[0m\u001b[0;34m\u001b[0m\u001b[0;34m\u001b[0m\u001b[0m\n",
      "\u001b[0;32m/opt/anaconda3/lib/python3.9/site-packages/selenium/webdriver/remote/webdriver.py\u001b[0m in \u001b[0;36mexecute\u001b[0;34m(self, driver_command, params)\u001b[0m\n\u001b[1;32m    319\u001b[0m         \u001b[0mresponse\u001b[0m \u001b[0;34m=\u001b[0m \u001b[0mself\u001b[0m\u001b[0;34m.\u001b[0m\u001b[0mcommand_executor\u001b[0m\u001b[0;34m.\u001b[0m\u001b[0mexecute\u001b[0m\u001b[0;34m(\u001b[0m\u001b[0mdriver_command\u001b[0m\u001b[0;34m,\u001b[0m \u001b[0mparams\u001b[0m\u001b[0;34m)\u001b[0m\u001b[0;34m\u001b[0m\u001b[0;34m\u001b[0m\u001b[0m\n\u001b[1;32m    320\u001b[0m         \u001b[0;32mif\u001b[0m \u001b[0mresponse\u001b[0m\u001b[0;34m:\u001b[0m\u001b[0;34m\u001b[0m\u001b[0;34m\u001b[0m\u001b[0m\n\u001b[0;32m--> 321\u001b[0;31m             \u001b[0mself\u001b[0m\u001b[0;34m.\u001b[0m\u001b[0merror_handler\u001b[0m\u001b[0;34m.\u001b[0m\u001b[0mcheck_response\u001b[0m\u001b[0;34m(\u001b[0m\u001b[0mresponse\u001b[0m\u001b[0;34m)\u001b[0m\u001b[0;34m\u001b[0m\u001b[0;34m\u001b[0m\u001b[0m\n\u001b[0m\u001b[1;32m    322\u001b[0m             response['value'] = self._unwrap_value(\n\u001b[1;32m    323\u001b[0m                 response.get('value', None))\n",
      "\u001b[0;32m/opt/anaconda3/lib/python3.9/site-packages/selenium/webdriver/remote/errorhandler.py\u001b[0m in \u001b[0;36mcheck_response\u001b[0;34m(self, response)\u001b[0m\n\u001b[1;32m    240\u001b[0m                 \u001b[0malert_text\u001b[0m \u001b[0;34m=\u001b[0m \u001b[0mvalue\u001b[0m\u001b[0;34m[\u001b[0m\u001b[0;34m'alert'\u001b[0m\u001b[0;34m]\u001b[0m\u001b[0;34m.\u001b[0m\u001b[0mget\u001b[0m\u001b[0;34m(\u001b[0m\u001b[0;34m'text'\u001b[0m\u001b[0;34m)\u001b[0m\u001b[0;34m\u001b[0m\u001b[0;34m\u001b[0m\u001b[0m\n\u001b[1;32m    241\u001b[0m             \u001b[0;32mraise\u001b[0m \u001b[0mexception_class\u001b[0m\u001b[0;34m(\u001b[0m\u001b[0mmessage\u001b[0m\u001b[0;34m,\u001b[0m \u001b[0mscreen\u001b[0m\u001b[0;34m,\u001b[0m \u001b[0mstacktrace\u001b[0m\u001b[0;34m,\u001b[0m \u001b[0malert_text\u001b[0m\u001b[0;34m)\u001b[0m\u001b[0;34m\u001b[0m\u001b[0;34m\u001b[0m\u001b[0m\n\u001b[0;32m--> 242\u001b[0;31m         \u001b[0;32mraise\u001b[0m \u001b[0mexception_class\u001b[0m\u001b[0;34m(\u001b[0m\u001b[0mmessage\u001b[0m\u001b[0;34m,\u001b[0m \u001b[0mscreen\u001b[0m\u001b[0;34m,\u001b[0m \u001b[0mstacktrace\u001b[0m\u001b[0;34m)\u001b[0m\u001b[0;34m\u001b[0m\u001b[0;34m\u001b[0m\u001b[0m\n\u001b[0m\u001b[1;32m    243\u001b[0m \u001b[0;34m\u001b[0m\u001b[0m\n\u001b[1;32m    244\u001b[0m     \u001b[0;32mdef\u001b[0m \u001b[0m_value_or_default\u001b[0m\u001b[0;34m(\u001b[0m\u001b[0mself\u001b[0m\u001b[0;34m,\u001b[0m \u001b[0mobj\u001b[0m\u001b[0;34m,\u001b[0m \u001b[0mkey\u001b[0m\u001b[0;34m,\u001b[0m \u001b[0mdefault\u001b[0m\u001b[0;34m)\u001b[0m\u001b[0;34m:\u001b[0m\u001b[0;34m\u001b[0m\u001b[0;34m\u001b[0m\u001b[0m\n",
      "\u001b[0;31mWebDriverException\u001b[0m: Message: chrome not reachable\n  (Session info: chrome=100.0.4896.88)\n"
     ]
    }
   ],
   "source": [
    "   \n",
    "thisweek_doc = BeautifulSoup(driver.page_source, \"html.parser\")\n",
    "tables = thisweek_doc.find_all(class_=\"data_table\")\n",
    "table = tables[-1]\n",
    "eighties =  doc.find_element(By.XPATH, '//*[@id=\"content\"]/div/div[18]/table/tbody/tr[1]/td[2]/span[1]')\n",
    "seventies = doc.find_element(By.XPATH, '//*[@id=\"content\"]/div/div[18]/table/tbody/tr[2]/td[2]/span[1]')\n",
    "sixties = doc.find_element(By.XPATH, '//*[@id=\"content\"]/div/div[18]/table/tbody/tr[3]/td[2]/span[1]')\n",
    "fifties = doc.find_element(By.XPATH, '//*[@id=\"content\"]/div/div[18]/table/tbody/tr[4]/td[2]/span[1]')\n",
    "forties = doc.find_element(By.XPATH, '//*[@id=\"content\"]/div/div[18]/table/tbody/tr[5]/td[2]/span[1]')\n",
    "thirties = doc.find_element(By.XPATH, '//*[@id=\"content\"]/div/div[18]/table/tbody/tr[6]/td[2]/span[1]')\n",
    "twenties = doc.find_element(By.XPATH, '//*[@id=\"content\"]/div/div[18]/table/tbody/tr[7]/td[2]/span[1]')\n",
    "teen = doc.find_element(By.XPATH, '//*[@id=\"content\"]/div/div[18]/table/tbody/tr[8]/td[2]/span[1]')\n",
    "yongsters = doc.find_element(By.XPATH, '//*[@id=\"content\"]/div/div[18]/table/tbody/tr[9]/td[2]/span[1]')\n",
    "\n",
    "thisweek_dead80s_total = int(eighties.text.replace(\",\",\"\"))\n",
    "thisweek_dead70s_total = int(seventies.text.replace(\",\",\"\"))\n",
    "thisweek_dead60s_total = int(sixties.text.replace(\",\",\"\"))\n",
    "thisweek_dead50s_total = int(fifties.text.replace(\",\",\"\"))\n",
    "thisweek_dead40s_total = int(forties.text.replace(\",\",\"\"))\n",
    "thisweek_dead30s_total = int(thirties.text.replace(\",\",\"\"))\n",
    "thisweek_dead20s_total = int(twenties.text.replace(\",\",\"\"))\n",
    "thisweek_dead10s_total = int(teen.text.replace(\",\",\"\"))\n",
    "thisweek_dead00s_total = int(youngsters.text.replace(\",\",\"\"))\n",
    "    \n",
    "try:\n",
    "    thisweek_newlydead80s = thisweek_dead80s_total - lastweek_dead80s_total\n",
    "    thisweek_newlydead70s = thisweek_dead70s_total - lastweek_dead70s_total\n",
    "    thisweek_newlydead60s = thisweek_dead60s_total - lastweek_dead60s_total\n",
    "    thisweek_newlydead50s = thisweek_dead50s_total - lastweek_dead50s_total\n",
    "    thisweek_newlydead40s = thisweek_dead40s_total - lastweek_dead40s_total\n",
    "    thisweek_newlydead30s = thisweek_dead30s_total - lastweek_dead30s_total\n",
    "    thisweek_newlydead20s = thisweek_dead20s_total - lastweek_dead20s_total\n",
    "    thisweek_newlydead10s = thisweek_dead10s_total - lastweek_dead10s_total\n",
    "    thisweek_newlydead00s = thisweek_dead00s_total - lastweek_dead00s_total\n",
    "    lostyears_85 = remaining_lifeexpectancy_85 * thisweek_newlydead80s\n",
    "    lostyears_75 = remaining_lifeexpectancy_75 * thisweek_newlydead70s\n",
    "    lostyears_65 = remaining_lifeexpectancy_65 * thisweek_newlydead60s\n",
    "    lostyears_55 = remaining_lifeexpectancy_55 * thisweek_newlydead50s\n",
    "    lostyears_45 = remaining_lifeexpectancy_45 * thisweek_newlydead40s\n",
    "    lostyears_35 = remaining_lifeexpectancy_35 * thisweek_newlydead30s\n",
    "    lostyears_25 = remaining_lifeexpectancy_25 * thisweek_newlydead20s\n",
    "    lostyears_15 = remaining_lifeexpectancy_15 * thisweek_newlydead10s\n",
    "    lostyears_05 = remaining_lifeexpectancy_05 * thisweek_newlydead00s\n",
    "    totalcost_KRGOV = GDP_per_capita * (lostyears_85 + lostyears_75 + lostyears_65 + lostyears_55 + lostyears_45 + lostyears_35 + lostyears_25 + lostyears_15 + lostyears_05)\n",
    "\n",
    "    New_deaths_of_80s.extend([thisweek_newlydead80s])\n",
    "    New_deaths_of_70s.extend([thisweek_newlydead70s])\n",
    "    New_deaths_of_60s.extend([thisweek_newlydead60s])\n",
    "    New_deaths_of_50s.extend([thisweek_newlydead50s])\n",
    "    New_deaths_of_40s.extend([thisweek_newlydead40s])\n",
    "    New_deaths_of_30s.extend([thisweek_newlydead30s])\n",
    "    New_deaths_of_20s.extend([thisweek_newlydead20s])\n",
    "    New_deaths_of_10s.extend([thisweek_newlydead10s])\n",
    "    New_deaths_of_00s.extend([thisweek_newlydead00s])\n",
    "    Total_years_lost.extend([lostyears_85 + lostyears_75 + lostyears_65 + lostyears_55 + lostyears_45 + lostyears_35 + lostyears_25 + lostyears_15 + lostyears_05])\n",
    "    Lostwealth.extend([totalcost_KRGOV])\n",
    "    \n",
    "#for first week\n",
    "except:\n",
    "    dummy = 0\n",
    "        \n",
    "lastweek_dead80s_total = thisweek_dead80s_total\n",
    "lastweek_dead70s_total = thisweek_dead70s_total\n",
    "lastweek_dead60s_total = thisweek_dead60s_total\n",
    "lastweek_dead50s_total = thisweek_dead50s_total\n",
    "lastweek_dead40s_total = thisweek_dead40s_total\n",
    "lastweek_dead30s_total = thisweek_dead30s_total\n",
    "lastweek_dead20s_total = thisweek_dead20s_total\n",
    "lastweek_dead10s_total = thisweek_dead10s_total\n",
    "lastweek_dead00s_total = thisweek_dead00s_total\n",
    "    "
   ]
  },
  {
   "cell_type": "code",
   "execution_count": 6,
   "id": "32acb7ab-6059-424a-b81d-ae732d344582",
   "metadata": {},
   "outputs": [],
   "source": [
    "driver.close()"
   ]
  },
  {
   "cell_type": "code",
   "execution_count": 15,
   "id": "f04e9aac-fc97-4fb8-aa44-bff62c727ee3",
   "metadata": {},
   "outputs": [
    {
     "ename": "NameError",
     "evalue": "name 'thisweek_newlydead80s' is not defined",
     "output_type": "error",
     "traceback": [
      "\u001b[0;31m---------------------------------------------------------------------------\u001b[0m",
      "\u001b[0;31mNameError\u001b[0m                                 Traceback (most recent call last)",
      "\u001b[0;32m/var/folders/3m/s0ysqyzs3fb_mcgvm4wjzt3w0000gn/T/ipykernel_63990/182491340.py\u001b[0m in \u001b[0;36m<module>\u001b[0;34m\u001b[0m\n\u001b[0;32m----> 1\u001b[0;31m \u001b[0mlen\u001b[0m\u001b[0;34m(\u001b[0m\u001b[0mthisweek_newlydead80s\u001b[0m\u001b[0;34m)\u001b[0m\u001b[0;34m\u001b[0m\u001b[0;34m\u001b[0m\u001b[0m\n\u001b[0m",
      "\u001b[0;31mNameError\u001b[0m: name 'thisweek_newlydead80s' is not defined"
     ]
    }
   ],
   "source": [
    "len(thisweek_newlydead80s)\n"
   ]
  },
  {
   "cell_type": "code",
   "execution_count": 7,
   "id": "d21a3687-aa0f-4dc4-a6d2-406e14082233",
   "metadata": {},
   "outputs": [],
   "source": [
    "THEFRAME = pd.DataFrame({ \"80s deaths\": New_deaths_of_80s, \"70s deaths\": New_deaths_of_70s, \"60s deaths\": New_deaths_of_60s, \n",
    "              \"50s deaths\": New_deaths_of_50s, \"40s deaths\": New_deaths_of_40s, \"30s deaths\": New_deaths_of_30s,\n",
    "              \"20s deaths\": New_deaths_of_20s, \"10s deaths\": New_deaths_of_10s, \"00s deaths\": New_deaths_of_00s,\n",
    "              \"Total years lost\": Total_years_lost, \"Lost GDP\": Lostwealth})"
   ]
  },
  {
   "cell_type": "code",
   "execution_count": 8,
   "id": "b66655db-dd8c-47da-bafe-f562faccf29f",
   "metadata": {},
   "outputs": [
    {
     "data": {
      "text/html": [
       "<div>\n",
       "<style scoped>\n",
       "    .dataframe tbody tr th:only-of-type {\n",
       "        vertical-align: middle;\n",
       "    }\n",
       "\n",
       "    .dataframe tbody tr th {\n",
       "        vertical-align: top;\n",
       "    }\n",
       "\n",
       "    .dataframe thead th {\n",
       "        text-align: right;\n",
       "    }\n",
       "</style>\n",
       "<table border=\"1\" class=\"dataframe\">\n",
       "  <thead>\n",
       "    <tr style=\"text-align: right;\">\n",
       "      <th></th>\n",
       "      <th>80s deaths</th>\n",
       "      <th>70s deaths</th>\n",
       "      <th>60s deaths</th>\n",
       "      <th>50s deaths</th>\n",
       "      <th>40s deaths</th>\n",
       "      <th>30s deaths</th>\n",
       "      <th>20s deaths</th>\n",
       "      <th>10s deaths</th>\n",
       "      <th>00s deaths</th>\n",
       "      <th>Total years lost</th>\n",
       "      <th>Lost GDP</th>\n",
       "    </tr>\n",
       "  </thead>\n",
       "  <tbody>\n",
       "  </tbody>\n",
       "</table>\n",
       "</div>"
      ],
      "text/plain": [
       "Empty DataFrame\n",
       "Columns: [80s deaths, 70s deaths, 60s deaths, 50s deaths, 40s deaths, 30s deaths, 20s deaths, 10s deaths, 00s deaths, Total years lost, Lost GDP]\n",
       "Index: []"
      ]
     },
     "execution_count": 8,
     "metadata": {},
     "output_type": "execute_result"
    }
   ],
   "source": [
    "THEFRAME"
   ]
  },
  {
   "cell_type": "code",
   "execution_count": null,
   "id": "a90decf0-97ab-4def-a775-47bfd12b5818",
   "metadata": {},
   "outputs": [],
   "source": []
  }
 ],
 "metadata": {
  "kernelspec": {
   "display_name": "Python 3 (ipykernel)",
   "language": "python",
   "name": "python3"
  },
  "language_info": {
   "codemirror_mode": {
    "name": "ipython",
    "version": 3
   },
   "file_extension": ".py",
   "mimetype": "text/x-python",
   "name": "python",
   "nbconvert_exporter": "python",
   "pygments_lexer": "ipython3",
   "version": "3.9.7"
  }
 },
 "nbformat": 4,
 "nbformat_minor": 5
}
