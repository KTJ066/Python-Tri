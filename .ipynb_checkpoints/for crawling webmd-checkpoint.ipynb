{
 "cells": [
  {
   "cell_type": "code",
   "execution_count": 1,
   "id": "c54e6354",
   "metadata": {},
   "outputs": [],
   "source": [
    "from bs4 import BeautifulSoup\n",
    "from selenium import webdriver\n",
    "from selenium.webdriver.chrome.service import Service\n",
    "from selenium.webdriver.common.by import By\n",
    "import pandas as pd\n",
    "from selenium.webdriver.common.keys import Keys\n",
    "from time import sleep"
   ]
  },
  {
   "cell_type": "code",
   "execution_count": 2,
   "id": "5ec50e10",
   "metadata": {},
   "outputs": [],
   "source": [
    "driver = webdriver.Chrome(service=Service(\"chromedriver.exe\"))"
   ]
  },
  {
   "cell_type": "code",
   "execution_count": 3,
   "id": "e6d65c44",
   "metadata": {},
   "outputs": [],
   "source": [
    "url = \"https://www.webmd.com/drugs/drugreview-180368-pfizer-biontech-covid-19-vaccine-pf-eua-intramuscular\"\n",
    "driver.get(url)"
   ]
  },
  {
   "cell_type": "code",
   "execution_count": null,
   "id": "f289349d",
   "metadata": {},
   "outputs": [],
   "source": [
    "page1 = BeautifulSoup(driver.page_source, \"html.parser\")"
   ]
  },
  {
   "cell_type": "code",
   "execution_count": null,
   "id": "3918bdfb",
   "metadata": {},
   "outputs": [],
   "source": [
    "text = page1.find_all(class_=\"description-text\")\n",
    "text"
   ]
  },
  {
   "cell_type": "code",
   "execution_count": null,
   "id": "6ccad9d1",
   "metadata": {},
   "outputs": [],
   "source": [
    "text_array = []\n",
    "for n in range(0, len(text)):\n",
    "    text_array.append(text[n].text.strip().replace(\"Read More Read Less\", \"\").replace(\"\\n\",\"\"))"
   ]
  },
  {
   "cell_type": "code",
   "execution_count": null,
   "id": "fe48a101",
   "metadata": {},
   "outputs": [],
   "source": [
    "print(text_array)"
   ]
  },
  {
   "cell_type": "code",
   "execution_count": null,
   "id": "b72d64a4",
   "metadata": {},
   "outputs": [],
   "source": [
    "pd.DataFrame({\"text\":text_array}).to_excel(\"texts.xlsx\")"
   ]
  }
 ],
 "metadata": {
  "kernelspec": {
   "display_name": "Python 3 (ipykernel)",
   "language": "python",
   "name": "python3"
  },
  "language_info": {
   "codemirror_mode": {
    "name": "ipython",
    "version": 3
   },
   "file_extension": ".py",
   "mimetype": "text/x-python",
   "name": "python",
   "nbconvert_exporter": "python",
   "pygments_lexer": "ipython3",
   "version": "3.9.7"
  }
 },
 "nbformat": 4,
 "nbformat_minor": 5
}
