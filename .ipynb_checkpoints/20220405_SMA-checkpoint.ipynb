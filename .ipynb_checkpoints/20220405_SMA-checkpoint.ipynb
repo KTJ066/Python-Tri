{
 "cells": [
  {
   "cell_type": "code",
   "execution_count": 12,
   "id": "f3c872cf-f83d-4ff1-a7e5-97d8b23f0185",
   "metadata": {
    "tags": []
   },
   "outputs": [],
   "source": [
    "from bs4 import BeautifulSoup\n",
    "import urllib.request as req\n",
    "import pandas as pd\n",
    "\n",
    "url = 'https://www.opentable.com/r/the-woo-new-york'\n",
    "html = req.urlopen(url)\n",
    "soup = BeautifulSoup(html, 'html.parser')"
   ]
  },
  {
   "cell_type": "code",
   "execution_count": 11,
   "id": "72de8a5f-ca05-4265-9867-0c3baa0eefae",
   "metadata": {},
   "outputs": [
    {
     "data": {
      "text/plain": [
       "'vipHM110'"
      ]
     },
     "execution_count": 11,
     "metadata": {},
     "output_type": "execute_result"
    }
   ],
   "source": [
    "# Before 'decompose()'\n",
    "soup.find_all(class_='oc-reviews-954a6007')[2].text"
   ]
  },
  {
   "cell_type": "code",
   "execution_count": 14,
   "id": "6c3e5b26-f452-4fc5-bdde-9b113612a6e7",
   "metadata": {},
   "outputs": [],
   "source": [
    "#review-OT-1023310-23377-110015810691 > div.oc-reviews-9f330471 > div.oc-reviews-954a6007 > span.oc-reviews-42b9159d\n",
    "for t in soup.find_all(class_='oc-reviews-42b9159d'):\n",
    "    t.decompose()"
   ]
  },
  {
   "cell_type": "code",
   "execution_count": 16,
   "id": "effa7737-c1ba-4b8a-87e8-5a7b5de2e164",
   "metadata": {},
   "outputs": [
    {
     "data": {
      "text/plain": [
       "[]"
      ]
     },
     "execution_count": 16,
     "metadata": {},
     "output_type": "execute_result"
    }
   ],
   "source": [
    "soup.find_all(class_='oc-reviews-42b9159d')"
   ]
  },
  {
   "cell_type": "code",
   "execution_count": 17,
   "id": "45c0ecc1-160d-4c9c-a2bc-5e6084d94f97",
   "metadata": {},
   "outputs": [
    {
     "data": {
      "text/plain": [
       "'HM110'"
      ]
     },
     "execution_count": 17,
     "metadata": {},
     "output_type": "execute_result"
    }
   ],
   "source": [
    "soup.find_all(class_='oc-reviews-954a6007')[2].text"
   ]
  },
  {
   "cell_type": "markdown",
   "id": "82042603-0f54-4938-81e0-bb58403b0474",
   "metadata": {},
   "source": []
  },
  {
   "cell_type": "code",
   "execution_count": null,
   "id": "d3e98445-472f-473a-ba8b-e9142940276b",
   "metadata": {},
   "outputs": [],
   "source": [
    "reviewer = []\n",
    "\n",
    "r1 = [soup.find_all(class_='oc-reviews-954a6007')[n].text for n in range(0, len(###여기까지했어###))]\n",
    "reviwer.extend(r1)"
   ]
  }
 ],
 "metadata": {
  "kernelspec": {
   "display_name": "Python 3 (ipykernel)",
   "language": "python",
   "name": "python3"
  },
  "language_info": {
   "codemirror_mode": {
    "name": "ipython",
    "version": 3
   },
   "file_extension": ".py",
   "mimetype": "text/x-python",
   "name": "python",
   "nbconvert_exporter": "python",
   "pygments_lexer": "ipython3",
   "version": "3.9.7"
  }
 },
 "nbformat": 4,
 "nbformat_minor": 5
}
