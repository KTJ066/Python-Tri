{
 "cells": [
  {
   "cell_type": "code",
   "execution_count": 1,
   "id": "3657980d",
   "metadata": {},
   "outputs": [],
   "source": [
    "from bs4 import BeautifulSoup\n",
    "from selenium import webdriver\n",
    "from selenium.webdriver.chrome.service import Service\n",
    "from selenium.webdriver.common.by import By\n",
    "import pandas as pd\n",
    "from selenium.webdriver.common.keys import Keys\n",
    "from time import sleep"
   ]
  },
  {
   "cell_type": "code",
   "execution_count": 2,
   "id": "9a8146d5",
   "metadata": {
    "scrolled": true
   },
   "outputs": [],
   "source": [
    "urls = []\n",
    "for i in range (1, 5):\n",
    "    url = \"https://www.webmd.com/drugs/drugreview-180368-pfizer-biontech-covid-19-vaccine-pf-eua-intramuscular?conditionid=&sortval=1&pagenumber=\" + str(i)\n",
    "    urls.append(url)"
   ]
  },
  {
   "cell_type": "code",
   "execution_count": 3,
   "id": "8f093f70",
   "metadata": {},
   "outputs": [],
   "source": [
    "text_array = []\n",
    "driver = webdriver.Chrome(service=Service(\"chromedriver.exe\"))\n",
    "for u in urls:\n",
    "    driver.get(u)\n",
    "    sleep(1)\n",
    "    page = BeautifulSoup(driver.page_source, \"html.parser\")\n",
    "    text = page.find_all(class_=\"description-text\")\n",
    "    for n in range(0, len(text)):\n",
    "        text_array.append(text[n].text.strip().replace(\"Read More Read Less\", \"\").replace(\"\\n\",\"\"))\n",
    "driver.quit()\n",
    "pd.DataFrame({\"Review\":text_array}).to_excel(\"Review of Pfizer.xlsx\")"
   ]
  }
 ],
 "metadata": {
  "kernelspec": {
   "display_name": "Python 3 (ipykernel)",
   "language": "python",
   "name": "python3"
  },
  "language_info": {
   "codemirror_mode": {
    "name": "ipython",
    "version": 3
   },
   "file_extension": ".py",
   "mimetype": "text/x-python",
   "name": "python",
   "nbconvert_exporter": "python",
   "pygments_lexer": "ipython3",
   "version": "3.9.7"
  }
 },
 "nbformat": 4,
 "nbformat_minor": 5
}
