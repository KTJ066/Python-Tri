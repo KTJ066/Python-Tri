{
 "cells": [
  {
   "cell_type": "code",
   "execution_count": 2,
   "id": "c54e6354",
   "metadata": {},
   "outputs": [],
   "source": [
    "from bs4 import BeautifulSoup\n",
    "from selenium import webdriver\n",
    "from selenium.webdriver.chrome.service import Service\n",
    "from selenium.webdriver.common.by import By\n",
    "import pandas as pd\n",
    "from selenium.webdriver.common.keys import Keys\n",
    "from time import sleep"
   ]
  },
  {
   "cell_type": "code",
   "execution_count": 8,
   "id": "5ec50e10",
   "metadata": {},
   "outputs": [],
   "source": [
    "driver = webdriver.Chrome('/Users/jonghyunkim/repo/Tristan/chromedriver')"
   ]
  },
  {
   "cell_type": "code",
   "execution_count": 9,
   "id": "e6d65c44",
   "metadata": {},
   "outputs": [],
   "source": [
    "url = \"https://www.webmd.com/drugs/drugreview-180368-pfizer-biontech-covid-19-vaccine-pf-eua-intramuscular\"\n",
    "driver.get(url)"
   ]
  },
  {
   "cell_type": "code",
   "execution_count": 10,
   "id": "f289349d",
   "metadata": {},
   "outputs": [],
   "source": [
    "page1 = BeautifulSoup(driver.page_source, \"html.parser\")"
   ]
  },
  {
   "cell_type": "code",
   "execution_count": 11,
   "id": "3918bdfb",
   "metadata": {
    "collapsed": true,
    "jupyter": {
     "outputs_hidden": true
    },
    "tags": []
   },
   "outputs": [
    {
     "data": {
      "text/plain": [
       "[<p class=\"description-text\">I've been exposed several times to COVID-19 since my initial vaccination and then a booster. I've not come down with it and that means it's working. I know I've been exposed since I sat in meetings (maskless) with someone who came down with it a few days later. Also my iPhone has given me exposure warnings. The mRNA vaccine is amazing, and aside from being tired for a day after a dose, no side effects.</p>,\n",
       " <p class=\"description-text\"><span class=\"showSec\">1st dose in March, second in April. Have been exposed multiple times to COVID-19 and haven't developed an infection thanks to this. I will be getting the booster.\n",
       " \n",
       " For those writing immediately afterward with aches/pains: it was similar to when you get a Flu shot and passes shortly. I have not experienced any lingering effects and the short term sluggishness is well worth it for the protection I get and dramatically reduce any severe reaction if I were to have a breakthrough infection. I imagine</span><span class=\"hiddenSec\"> there's a political motive behind many of these negative reviews.</span><span class=\"readMore\">Read More <i class=\"webmd-icon-down-arrow\"></i></span><span class=\"readLess hide-text\">Read Less  <i class=\"webmd-icon-up-arrow\"></i></span></p>,\n",
       " <p class=\"description-text\">Phizer vaccine: Heel area swelled plus bottom of foot was painful and tender too.  I couldn't walk, stand, or clutch my semi. Had to quit a great paying  local trucking job because I was a truck driver and couldn't walk or do my job.  Life sucked for about 6 months limping around in pain and just about losing everything.  I had two no vaxer friends die.  ??.   I never got Covid so I can appreciate that the vaccine probably works.</p>,\n",
       " <p class=\"description-text\">I knew that when getting a vaccine, you will experience side effects but I honestly feel the same way when I had covid. I got the vaccine yesterday and its like my vision had a filter over it. Everything was more pigmented and vibrant. My arm is sore of course. I feel really drained and have low energy. I feel like I have covid all over again. Except I could breath out my nose just fine. I think this vaccine is going to do more help than harm though. </p>,\n",
       " <p class=\"description-text\"><span class=\"showSec\">I’ve had all three. Still have not been infected with Covid (did have antibody test to confirm I’ve never been infected with it). I was nervous to take it even though I have had anthrax and other non civilian vaccines because I have had major immune health issues that have left me with fewer organs.. I had to receive the vaccine while medically supervised. I actually felt really great after the first two jabs with no side effects. I have gained some weight that I can’t seem to shake and that’s u</span><span class=\"hiddenSec\">nusual for me, my period changed a bit, and I am having some minor kidney issues that started at the booster, but honestly? I’d still take the jab over having Covid. My grandfather works the Covid icu floors and has the entire pandemic. The number of deaths every shift from Covid was enough to show me the importance of having the vaccine. I also know that the large amounts of people I know whom have had all three pfizer shots have had no side effects or negative effects at all. While it could have inflamed some of my kidney issues and this issue is currently being researched, I’m not in any discomfort and the treatment is easy. There are a lot of negative reviews here and I think it’s important to weed through what is connected to vaccine and what is not before making your decision. As someone who is a young person with history of adverse reactions, blood clots, and severe health issues I fared well which I did not expect. I think they did well in the pfizer vaccine manufacturing. I do recommend it and vaccinated my oldest child who has also been great after taking it. This was a breeze compared to the anthrax vaccine in my opinion. </span><span class=\"readMore\">Read More <i class=\"webmd-icon-down-arrow\"></i></span><span class=\"readLess hide-text\">Read Less  <i class=\"webmd-icon-up-arrow\"></i></span></p>,\n",
       " <p class=\"description-text\"><span class=\"showSec\">I put off getting the vaccine but so not to feel forced by my job or lose job over, I started the process. After the first I had the feeling of a cold coming on an I just did what i would have done for any other. I over dressed to sweat out chance of fever and pumped fluids. The second dose my arm was sore enough for me to stay home from work one day. I have to repeatedly raise my arm at work and knew that would be a problem. Nothing serious. I'm not due for the booster till June. I feel fine wi</span><span class=\"hiddenSec\">th no issues to report. Thanks</span><span class=\"readMore\">Read More <i class=\"webmd-icon-down-arrow\"></i></span><span class=\"readLess hide-text\">Read Less  <i class=\"webmd-icon-up-arrow\"></i></span></p>,\n",
       " <p class=\"description-text\">First shot April '21, 2nd in June' 21 and 3rd in Dec. 21. Got covid from a close contact in early Jan. 22 and yes.. I'm positive. But almost zero symptoms. Friend who gave me covid only has 2 shots and has no worse symptoms than a bad cold. Thank you pfizer! Cigarettes taste a little funny, but if this is the worst of it.. BRAVO! </p>,\n",
       " <p class=\"description-text\"><span class=\"showSec\">I had both rounds of Pfizer vaccine in April 2021 - just got the booster 11/5/21. The first 2 shots had barely any side effects, just a sore arm but the booster knocked me out about 24 hours later. I had to leave work I was so exhausted and immediately took a 3 hour nap. Now over 6 weeks later I'm having pretty bad joint pain which is new for me. I'm 30 years old and pretty healthy/active. It started with my left wrist (injected in left arm) but now it's both wrists, elbows, shoulders, and knees</span><span class=\"hiddenSec\">. Still haven't gotten covid even though I've been exposed several times so I'm grateful for that. Just weird how I can hear my left wrist especially make a grinding noise and I've lost full range of motion. Stay safe and take care of yourselves &lt;3</span><span class=\"readMore\">Read More <i class=\"webmd-icon-down-arrow\"></i></span><span class=\"readLess hide-text\">Read Less  <i class=\"webmd-icon-up-arrow\"></i></span></p>,\n",
       " <p class=\"description-text\"><span class=\"showSec\">This is a hard vaccine to rate, because I don't know how effective it is yet but I am hoping it gets me through omicron.\n",
       " \n",
       " NOTE - I am now 2 and half weeks passed the shot. I had the J&amp;J for the vaccine, and Pfizer was my booster.\n",
       " \n",
       " People usually some to these forums when things go wrong, or just to complain so I will be detailed here:\n",
       " \n",
       " I tend to have allergies, so my immune system overreacts a lot; it is not like most other people's, and I always prepare for a worse reaction. In my experience, t</span><span class=\"hiddenSec\">he side effects were much worse than J&amp;J but I think Pfizer provides better protection.\n",
       " \n",
       " Day one: I felt fine the day of the shot, then woke up at night with aches, chills and fever. \n",
       " \n",
       " The worst was I day two, I felt like I had the flu. I was very weak and very, very exhausted; I had swollen lymphs under arm, mild headache, mild rash on chest. I slept most of the day and all through the next night. \n",
       " \n",
       " Day three, I felt better but was still achy and had a headache, body aches and swollen joints. I avoided pain reliever because I know it mutes the immune system, so I just opted to suffer through.\n",
       " \n",
       " By Day four or five I felt much better, maybe some mild fatigue.\n",
       " \n",
       " The next week, day seven: I got some diarrhea and upset stomach. \n",
       " \n",
       " Day eight: new muscle pain - I pulled one muscle, then a second muscle on day nine. I cannot say for sure this is from the vaccine, but it seemed weird. My feeling is that my immune system is still in fifth gear.\n",
       " \n",
       " Now, at day seventeen, I still have a few swollen muscles and joints.\n",
       " \n",
       " I am still happy I got the vaccine. I just wish they could refine it so people like me don't have such strong reactions. Maybe a lower dose will come in the future.</span><span class=\"readMore\">Read More <i class=\"webmd-icon-down-arrow\"></i></span><span class=\"readLess hide-text\">Read Less  <i class=\"webmd-icon-up-arrow\"></i></span></p>,\n",
       " <p class=\"description-text\"><span class=\"showSec\">1st &amp;2nd doses in March were fine, a little pain at injection site but not anything else. Booster today, 45 min later I was in a ambulance. My right leg swole and started dark bruising on upper thigh, next thing I knew I had fainted (not something I do) and paramedics were on site. They gave me 3 medications for allergic reaction and transported me to hosp. Blood work all came back normal and I was discharged 3 hours later perfectly fine with no answer. Still have very deep bruising and pain in </span><span class=\"hiddenSec\">leg at that site, but otherwise ok. Shot was given in upper left arm. I am 43, no underlying conditions and reasonably healthy. I'd still choose this over getting covid.</span><span class=\"readMore\">Read More <i class=\"webmd-icon-down-arrow\"></i></span><span class=\"readLess hide-text\">Read Less  <i class=\"webmd-icon-up-arrow\"></i></span></p>,\n",
       " <p class=\"description-text\">Got 2 doses of Pfizer. Felt fine after bothi was a little tired for a couple days.\n",
       " \n",
       " My entire family got covid, they all chose not to get the vaccine. I ended up being the only one who didn't catch it.</p>,\n",
       " <p class=\"description-text\"><span class=\"showSec\">Blood Type 0-: 1st pfizer Covid shot in March 2021, three days later left ankle blew up painful to walk on, Iced for three days eventually went away. 2nd pfizer Covid 19 shot in May 2021, left ankle blew up painful to walk on, iced and three days later went away. Nov 24th pfizer booster shot, so far my left calf muscle is super warm no ankle swelling yet, but we shall see. All all vitals perfect, no headaches, etc. Even stopped my runny nose I've had the last several weeks. I guess we all react </span><span class=\"hiddenSec\">a bit differently. </span><span class=\"readMore\">Read More <i class=\"webmd-icon-down-arrow\"></i></span><span class=\"readLess hide-text\">Read Less  <i class=\"webmd-icon-up-arrow\"></i></span></p>,\n",
       " <p class=\"description-text\">No side effects after Covid vaccine #1. Only experienced a brief period of fatigue after Covid #2 and #3 (booster).</p>,\n",
       " <p class=\"description-text\"><span class=\"showSec\">I had no problems after either of the first 2 Moderna vaccinations. With the booster I am experiencing a lot of pain in my left foot, heal and left side of my foot, as well my left arm is much more soar than with of the other 2 shots. I took 2 Ibuprofen and I’m doing a warm foot soak with Epsom salts. I’m not even sure if this is related to the booster, but it appeared about an hour after the shot, so probably it is. It’s important to note that I didn’t drink as much water as I usually do, so th</span><span class=\"hiddenSec\">at played a roll. As a phlebotomist I know veins will narrow dramatically without hydration. </span><span class=\"readMore\">Read More <i class=\"webmd-icon-down-arrow\"></i></span><span class=\"readLess hide-text\">Read Less  <i class=\"webmd-icon-up-arrow\"></i></span></p>,\n",
       " <p class=\"description-text\">First vaccine I had a bad migraine for two days, flu like symptoms. Then pains in my toes, again with the second vaccine pains in toes and joints this time sickness for 3 days. Now with the booster I decided drink lots of water and take painkillers before the vaccine. Joint pain and very painful toes again only had the jab 3 days ago but feel very tired.</p>,\n",
       " <p class=\"description-text\">Covid Booster, experienced fatigue for 48 hours, extreme chills for 4 hours, slight headache on/off 12 hours, lower GI distress 1st 24 hrs &amp; continuing slightly 2+ days, a lot of sharp tingling sensation in feet starting 36 hrs after and continuing 3 days out &amp; actually increasing, muscles achy 1st 12 hrs out for 12 hours.  All worth it!!  Thank you healthcare providers &amp; vaccine mfg's, we love you!!</p>,\n",
       " <p class=\"description-text\">This is a third dose (booster) report. i recieved the dose on Monday October 18th. by Tuesday morning October 19th, I noticed that all of my joints were aching and I could not close or clasp my hands without severe pain. its now Friday October 22nd, and most of the pain has left but hand joints continue to hurt </p>,\n",
       " <p class=\"description-text\">10 days after having 2nd vaccination, swollen left foot and burning sensation bottom of both feet.\n",
       " Went to doctor on day 15, got a cortisone injection, has relieved a lot of swelling and burning sensation in the feet.\n",
       " I do have Ckd and kidneys only functioning at 18%</p>,\n",
       " <p class=\"description-text\">Sore arm , feeling weak , tired and sleepy . I also suffer of sciatica  , and I can't believe that after the vaccine I have not felt any pain on my back that's a miracle . </p>,\n",
       " <p class=\"description-text\">I feel GREAT!!!</p>]"
      ]
     },
     "execution_count": 11,
     "metadata": {},
     "output_type": "execute_result"
    }
   ],
   "source": [
    "text = page1.find_all(class_=\"description-text\")\n",
    "text"
   ]
  },
  {
   "cell_type": "code",
   "execution_count": 12,
   "id": "6ccad9d1",
   "metadata": {},
   "outputs": [],
   "source": [
    "text_array = []\n",
    "for n in range(0, len(text)):\n",
    "    text_array.append(text[n].text.strip().replace(\"Read More Read Less\", \"\").replace(\"\\n\",\"\"))"
   ]
  },
  {
   "cell_type": "code",
   "execution_count": 13,
   "id": "fe48a101",
   "metadata": {
    "collapsed": true,
    "jupyter": {
     "outputs_hidden": true
    },
    "tags": []
   },
   "outputs": [
    {
     "name": "stdout",
     "output_type": "stream",
     "text": [
      "[\"I've been exposed several times to COVID-19 since my initial vaccination and then a booster. I've not come down with it and that means it's working. I know I've been exposed since I sat in meetings (maskless) with someone who came down with it a few days later. Also my iPhone has given me exposure warnings. The mRNA vaccine is amazing, and aside from being tired for a day after a dose, no side effects.\", \"1st dose in March, second in April. Have been exposed multiple times to COVID-19 and haven't developed an infection thanks to this. I will be getting the booster.For those writing immediately afterward with aches/pains: it was similar to when you get a Flu shot and passes shortly. I have not experienced any lingering effects and the short term sluggishness is well worth it for the protection I get and dramatically reduce any severe reaction if I were to have a breakthrough infection. I imagine there's a political motive behind many of these negative reviews.\", \"Phizer vaccine: Heel area swelled plus bottom of foot was painful and tender too.  I couldn't walk, stand, or clutch my semi. Had to quit a great paying  local trucking job because I was a truck driver and couldn't walk or do my job.  Life sucked for about 6 months limping around in pain and just about losing everything.  I had two no vaxer friends die.  ??.   I never got Covid so I can appreciate that the vaccine probably works.\", 'I knew that when getting a vaccine, you will experience side effects but I honestly feel the same way when I had covid. I got the vaccine yesterday and its like my vision had a filter over it. Everything was more pigmented and vibrant. My arm is sore of course. I feel really drained and have low energy. I feel like I have covid all over again. Except I could breath out my nose just fine. I think this vaccine is going to do more help than harm though.', 'I’ve had all three. Still have not been infected with Covid (did have antibody test to confirm I’ve never been infected with it). I was nervous to take it even though I have had anthrax and other non civilian vaccines because I have had major immune health issues that have left me with fewer organs.. I had to receive the vaccine while medically supervised. I actually felt really great after the first two jabs with no side effects. I have gained some weight that I can’t seem to shake and that’s unusual for me, my period changed a bit, and I am having some minor kidney issues that started at the booster, but honestly? I’d still take the jab over having Covid. My grandfather works the Covid icu floors and has the entire pandemic. The number of deaths every shift from Covid was enough to show me the importance of having the vaccine. I also know that the large amounts of people I know whom have had all three pfizer shots have had no side effects or negative effects at all. While it could have inflamed some of my kidney issues and this issue is currently being researched, I’m not in any discomfort and the treatment is easy. There are a lot of negative reviews here and I think it’s important to weed through what is connected to vaccine and what is not before making your decision. As someone who is a young person with history of adverse reactions, blood clots, and severe health issues I fared well which I did not expect. I think they did well in the pfizer vaccine manufacturing. I do recommend it and vaccinated my oldest child who has also been great after taking it. This was a breeze compared to the anthrax vaccine in my opinion. ', \"I put off getting the vaccine but so not to feel forced by my job or lose job over, I started the process. After the first I had the feeling of a cold coming on an I just did what i would have done for any other. I over dressed to sweat out chance of fever and pumped fluids. The second dose my arm was sore enough for me to stay home from work one day. I have to repeatedly raise my arm at work and knew that would be a problem. Nothing serious. I'm not due for the booster till June. I feel fine with no issues to report. Thanks\", \"First shot April '21, 2nd in June' 21 and 3rd in Dec. 21. Got covid from a close contact in early Jan. 22 and yes.. I'm positive. But almost zero symptoms. Friend who gave me covid only has 2 shots and has no worse symptoms than a bad cold. Thank you pfizer! Cigarettes taste a little funny, but if this is the worst of it.. BRAVO!\", \"I had both rounds of Pfizer vaccine in April 2021 - just got the booster 11/5/21. The first 2 shots had barely any side effects, just a sore arm but the booster knocked me out about 24 hours later. I had to leave work I was so exhausted and immediately took a 3 hour nap. Now over 6 weeks later I'm having pretty bad joint pain which is new for me. I'm 30 years old and pretty healthy/active. It started with my left wrist (injected in left arm) but now it's both wrists, elbows, shoulders, and knees. Still haven't gotten covid even though I've been exposed several times so I'm grateful for that. Just weird how I can hear my left wrist especially make a grinding noise and I've lost full range of motion. Stay safe and take care of yourselves <3\", \"This is a hard vaccine to rate, because I don't know how effective it is yet but I am hoping it gets me through omicron.NOTE - I am now 2 and half weeks passed the shot. I had the J&J for the vaccine, and Pfizer was my booster.People usually some to these forums when things go wrong, or just to complain so I will be detailed here:I tend to have allergies, so my immune system overreacts a lot; it is not like most other people's, and I always prepare for a worse reaction. In my experience, the side effects were much worse than J&J but I think Pfizer provides better protection.Day one: I felt fine the day of the shot, then woke up at night with aches, chills and fever. The worst was I day two, I felt like I had the flu. I was very weak and very, very exhausted; I had swollen lymphs under arm, mild headache, mild rash on chest. I slept most of the day and all through the next night. Day three, I felt better but was still achy and had a headache, body aches and swollen joints. I avoided pain reliever because I know it mutes the immune system, so I just opted to suffer through.By Day four or five I felt much better, maybe some mild fatigue.The next week, day seven: I got some diarrhea and upset stomach. Day eight: new muscle pain - I pulled one muscle, then a second muscle on day nine. I cannot say for sure this is from the vaccine, but it seemed weird. My feeling is that my immune system is still in fifth gear.Now, at day seventeen, I still have a few swollen muscles and joints.I am still happy I got the vaccine. I just wish they could refine it so people like me don't have such strong reactions. Maybe a lower dose will come in the future.\", \"1st &2nd doses in March were fine, a little pain at injection site but not anything else. Booster today, 45 min later I was in a ambulance. My right leg swole and started dark bruising on upper thigh, next thing I knew I had fainted (not something I do) and paramedics were on site. They gave me 3 medications for allergic reaction and transported me to hosp. Blood work all came back normal and I was discharged 3 hours later perfectly fine with no answer. Still have very deep bruising and pain in leg at that site, but otherwise ok. Shot was given in upper left arm. I am 43, no underlying conditions and reasonably healthy. I'd still choose this over getting covid.\", \"Got 2 doses of Pfizer. Felt fine after bothi was a little tired for a couple days.My entire family got covid, they all chose not to get the vaccine. I ended up being the only one who didn't catch it.\", \"Blood Type 0-: 1st pfizer Covid shot in March 2021, three days later left ankle blew up painful to walk on, Iced for three days eventually went away. 2nd pfizer Covid 19 shot in May 2021, left ankle blew up painful to walk on, iced and three days later went away. Nov 24th pfizer booster shot, so far my left calf muscle is super warm no ankle swelling yet, but we shall see. All all vitals perfect, no headaches, etc. Even stopped my runny nose I've had the last several weeks. I guess we all react a bit differently. \", 'No side effects after Covid vaccine #1. Only experienced a brief period of fatigue after Covid #2 and #3 (booster).', 'I had no problems after either of the first 2 Moderna vaccinations. With the booster I am experiencing a lot of pain in my left foot, heal and left side of my foot, as well my left arm is much more soar than with of the other 2 shots. I took 2 Ibuprofen and I’m doing a warm foot soak with Epsom salts. I’m not even sure if this is related to the booster, but it appeared about an hour after the shot, so probably it is. It’s important to note that I didn’t drink as much water as I usually do, so that played a roll. As a phlebotomist I know veins will narrow dramatically without hydration. ', 'First vaccine I had a bad migraine for two days, flu like symptoms. Then pains in my toes, again with the second vaccine pains in toes and joints this time sickness for 3 days. Now with the booster I decided drink lots of water and take painkillers before the vaccine. Joint pain and very painful toes again only had the jab 3 days ago but feel very tired.', \"Covid Booster, experienced fatigue for 48 hours, extreme chills for 4 hours, slight headache on/off 12 hours, lower GI distress 1st 24 hrs & continuing slightly 2+ days, a lot of sharp tingling sensation in feet starting 36 hrs after and continuing 3 days out & actually increasing, muscles achy 1st 12 hrs out for 12 hours.  All worth it!!  Thank you healthcare providers & vaccine mfg's, we love you!!\", 'This is a third dose (booster) report. i recieved the dose on Monday October 18th. by Tuesday morning October 19th, I noticed that all of my joints were aching and I could not close or clasp my hands without severe pain. its now Friday October 22nd, and most of the pain has left but hand joints continue to hurt', '10 days after having 2nd vaccination, swollen left foot and burning sensation bottom of both feet.Went to doctor on day 15, got a cortisone injection, has relieved a lot of swelling and burning sensation in the feet.I do have Ckd and kidneys only functioning at 18%', \"Sore arm , feeling weak , tired and sleepy . I also suffer of sciatica  , and I can't believe that after the vaccine I have not felt any pain on my back that's a miracle .\", 'I feel GREAT!!!']\n"
     ]
    }
   ],
   "source": [
    "print(text_array)"
   ]
  },
  {
   "cell_type": "code",
   "execution_count": 14,
   "id": "b72d64a4",
   "metadata": {
    "collapsed": true,
    "jupyter": {
     "outputs_hidden": true
    },
    "tags": []
   },
   "outputs": [
    {
     "data": {
      "text/html": [
       "<div>\n",
       "<style scoped>\n",
       "    .dataframe tbody tr th:only-of-type {\n",
       "        vertical-align: middle;\n",
       "    }\n",
       "\n",
       "    .dataframe tbody tr th {\n",
       "        vertical-align: top;\n",
       "    }\n",
       "\n",
       "    .dataframe thead th {\n",
       "        text-align: right;\n",
       "    }\n",
       "</style>\n",
       "<table border=\"1\" class=\"dataframe\">\n",
       "  <thead>\n",
       "    <tr style=\"text-align: right;\">\n",
       "      <th></th>\n",
       "      <th>text</th>\n",
       "    </tr>\n",
       "  </thead>\n",
       "  <tbody>\n",
       "    <tr>\n",
       "      <th>0</th>\n",
       "      <td>I've been exposed several times to COVID-19 si...</td>\n",
       "    </tr>\n",
       "    <tr>\n",
       "      <th>1</th>\n",
       "      <td>1st dose in March, second in April. Have been ...</td>\n",
       "    </tr>\n",
       "    <tr>\n",
       "      <th>2</th>\n",
       "      <td>Phizer vaccine: Heel area swelled plus bottom ...</td>\n",
       "    </tr>\n",
       "    <tr>\n",
       "      <th>3</th>\n",
       "      <td>I knew that when getting a vaccine, you will e...</td>\n",
       "    </tr>\n",
       "    <tr>\n",
       "      <th>4</th>\n",
       "      <td>I’ve had all three. Still have not been infect...</td>\n",
       "    </tr>\n",
       "    <tr>\n",
       "      <th>5</th>\n",
       "      <td>I put off getting the vaccine but so not to fe...</td>\n",
       "    </tr>\n",
       "    <tr>\n",
       "      <th>6</th>\n",
       "      <td>First shot April '21, 2nd in June' 21 and 3rd ...</td>\n",
       "    </tr>\n",
       "    <tr>\n",
       "      <th>7</th>\n",
       "      <td>I had both rounds of Pfizer vaccine in April 2...</td>\n",
       "    </tr>\n",
       "    <tr>\n",
       "      <th>8</th>\n",
       "      <td>This is a hard vaccine to rate, because I don'...</td>\n",
       "    </tr>\n",
       "    <tr>\n",
       "      <th>9</th>\n",
       "      <td>1st &amp;2nd doses in March were fine, a little pa...</td>\n",
       "    </tr>\n",
       "    <tr>\n",
       "      <th>10</th>\n",
       "      <td>Got 2 doses of Pfizer. Felt fine after bothi w...</td>\n",
       "    </tr>\n",
       "    <tr>\n",
       "      <th>11</th>\n",
       "      <td>Blood Type 0-: 1st pfizer Covid shot in March ...</td>\n",
       "    </tr>\n",
       "    <tr>\n",
       "      <th>12</th>\n",
       "      <td>No side effects after Covid vaccine #1. Only e...</td>\n",
       "    </tr>\n",
       "    <tr>\n",
       "      <th>13</th>\n",
       "      <td>I had no problems after either of the first 2 ...</td>\n",
       "    </tr>\n",
       "    <tr>\n",
       "      <th>14</th>\n",
       "      <td>First vaccine I had a bad migraine for two day...</td>\n",
       "    </tr>\n",
       "    <tr>\n",
       "      <th>15</th>\n",
       "      <td>Covid Booster, experienced fatigue for 48 hour...</td>\n",
       "    </tr>\n",
       "    <tr>\n",
       "      <th>16</th>\n",
       "      <td>This is a third dose (booster) report. i recie...</td>\n",
       "    </tr>\n",
       "    <tr>\n",
       "      <th>17</th>\n",
       "      <td>10 days after having 2nd vaccination, swollen ...</td>\n",
       "    </tr>\n",
       "    <tr>\n",
       "      <th>18</th>\n",
       "      <td>Sore arm , feeling weak , tired and sleepy . I...</td>\n",
       "    </tr>\n",
       "    <tr>\n",
       "      <th>19</th>\n",
       "      <td>I feel GREAT!!!</td>\n",
       "    </tr>\n",
       "  </tbody>\n",
       "</table>\n",
       "</div>"
      ],
      "text/plain": [
       "                                                 text\n",
       "0   I've been exposed several times to COVID-19 si...\n",
       "1   1st dose in March, second in April. Have been ...\n",
       "2   Phizer vaccine: Heel area swelled plus bottom ...\n",
       "3   I knew that when getting a vaccine, you will e...\n",
       "4   I’ve had all three. Still have not been infect...\n",
       "5   I put off getting the vaccine but so not to fe...\n",
       "6   First shot April '21, 2nd in June' 21 and 3rd ...\n",
       "7   I had both rounds of Pfizer vaccine in April 2...\n",
       "8   This is a hard vaccine to rate, because I don'...\n",
       "9   1st &2nd doses in March were fine, a little pa...\n",
       "10  Got 2 doses of Pfizer. Felt fine after bothi w...\n",
       "11  Blood Type 0-: 1st pfizer Covid shot in March ...\n",
       "12  No side effects after Covid vaccine #1. Only e...\n",
       "13  I had no problems after either of the first 2 ...\n",
       "14  First vaccine I had a bad migraine for two day...\n",
       "15  Covid Booster, experienced fatigue for 48 hour...\n",
       "16  This is a third dose (booster) report. i recie...\n",
       "17  10 days after having 2nd vaccination, swollen ...\n",
       "18  Sore arm , feeling weak , tired and sleepy . I...\n",
       "19                                    I feel GREAT!!!"
      ]
     },
     "execution_count": 14,
     "metadata": {},
     "output_type": "execute_result"
    }
   ],
   "source": [
    "pd.DataFrame({\"text\":text_array})"
   ]
  },
  {
   "cell_type": "code",
   "execution_count": 15,
   "id": "5a7301fd-3a15-4536-bd4f-ed5083b2034a",
   "metadata": {},
   "outputs": [
    {
     "name": "stderr",
     "output_type": "stream",
     "text": [
      "[nltk_data] Downloading package punkt to\n",
      "[nltk_data]     /Users/jonghyunkim/nltk_data...\n",
      "[nltk_data]   Package punkt is already up-to-date!\n"
     ]
    },
    {
     "data": {
      "text/plain": [
       "True"
      ]
     },
     "execution_count": 15,
     "metadata": {},
     "output_type": "execute_result"
    }
   ],
   "source": [
    "from nltk.tokenize import sent_tokenize\n",
    "from nltk.tokenize import word_tokenize\n",
    "import nltk\n",
    "nltk.download(\"punkt\")"
   ]
  },
  {
   "cell_type": "code",
   "execution_count": 38,
   "id": "c4195773-82b5-4760-acb7-6a5a103c5033",
   "metadata": {
    "collapsed": true,
    "jupyter": {
     "outputs_hidden": true
    },
    "tags": []
   },
   "outputs": [
    {
     "data": {
      "text/plain": [
       "[[\"I've been exposed several times to COVID-19 since my initial vaccination and then a booster.\",\n",
       "  \"I've not come down with it and that means it's working.\",\n",
       "  \"I know I've been exposed since I sat in meetings (maskless) with someone who came down with it a few days later.\",\n",
       "  'Also my iPhone has given me exposure warnings.',\n",
       "  'The mRNA vaccine is amazing, and aside from being tired for a day after a dose, no side effects.'],\n",
       " ['1st dose in March, second in April.',\n",
       "  \"Have been exposed multiple times to COVID-19 and haven't developed an infection thanks to this.\",\n",
       "  'I will be getting the booster.For those writing immediately afterward with aches/pains: it was similar to when you get a Flu shot and passes shortly.',\n",
       "  'I have not experienced any lingering effects and the short term sluggishness is well worth it for the protection I get and dramatically reduce any severe reaction if I were to have a breakthrough infection.',\n",
       "  \"I imagine there's a political motive behind many of these negative reviews.\"],\n",
       " ['Phizer vaccine: Heel area swelled plus bottom of foot was painful and tender too.',\n",
       "  \"I couldn't walk, stand, or clutch my semi.\",\n",
       "  \"Had to quit a great paying  local trucking job because I was a truck driver and couldn't walk or do my job.\",\n",
       "  'Life sucked for about 6 months limping around in pain and just about losing everything.',\n",
       "  'I had two no vaxer friends die.',\n",
       "  '??.',\n",
       "  'I never got Covid so I can appreciate that the vaccine probably works.'],\n",
       " ['I knew that when getting a vaccine, you will experience side effects but I honestly feel the same way when I had covid.',\n",
       "  'I got the vaccine yesterday and its like my vision had a filter over it.',\n",
       "  'Everything was more pigmented and vibrant.',\n",
       "  'My arm is sore of course.',\n",
       "  'I feel really drained and have low energy.',\n",
       "  'I feel like I have covid all over again.',\n",
       "  'Except I could breath out my nose just fine.',\n",
       "  'I think this vaccine is going to do more help than harm though.'],\n",
       " ['I’ve had all three.',\n",
       "  'Still have not been infected with Covid (did have antibody test to confirm I’ve never been infected with it).',\n",
       "  'I was nervous to take it even though I have had anthrax and other non civilian vaccines because I have had major immune health issues that have left me with fewer organs..',\n",
       "  'I had to receive the vaccine while medically supervised.',\n",
       "  'I actually felt really great after the first two jabs with no side effects.',\n",
       "  'I have gained some weight that I can’t seem to shake and that’s unusual for me, my period changed a bit, and I am having some minor kidney issues that started at the booster, but honestly?',\n",
       "  'I’d still take the jab over having Covid.',\n",
       "  'My grandfather works the Covid icu floors and has the entire pandemic.',\n",
       "  'The number of deaths every shift from Covid was enough to show me the importance of having the vaccine.',\n",
       "  'I also know that the large amounts of people I know whom have had all three pfizer shots have had no side effects or negative effects at all.',\n",
       "  'While it could have inflamed some of my kidney issues and this issue is currently being researched, I’m not in any discomfort and the treatment is easy.',\n",
       "  'There are a lot of negative reviews here and I think it’s important to weed through what is connected to vaccine and what is not before making your decision.',\n",
       "  'As someone who is a young person with history of adverse reactions, blood clots, and severe health issues I fared well which I did not expect.',\n",
       "  'I think they did well in the pfizer vaccine manufacturing.',\n",
       "  'I do recommend it and vaccinated my oldest child who has also been great after taking it.',\n",
       "  'This was a breeze compared to the anthrax vaccine in my opinion.'],\n",
       " ['I put off getting the vaccine but so not to feel forced by my job or lose job over, I started the process.',\n",
       "  'After the first I had the feeling of a cold coming on an I just did what i would have done for any other.',\n",
       "  'I over dressed to sweat out chance of fever and pumped fluids.',\n",
       "  'The second dose my arm was sore enough for me to stay home from work one day.',\n",
       "  'I have to repeatedly raise my arm at work and knew that would be a problem.',\n",
       "  'Nothing serious.',\n",
       "  \"I'm not due for the booster till June.\",\n",
       "  'I feel fine with no issues to report.',\n",
       "  'Thanks'],\n",
       " [\"First shot April '21, 2nd in June' 21 and 3rd in Dec. 21.\",\n",
       "  'Got covid from a close contact in early Jan. 22 and yes..',\n",
       "  \"I'm positive.\",\n",
       "  'But almost zero symptoms.',\n",
       "  'Friend who gave me covid only has 2 shots and has no worse symptoms than a bad cold.',\n",
       "  'Thank you pfizer!',\n",
       "  'Cigarettes taste a little funny, but if this is the worst of it.. BRAVO!'],\n",
       " ['I had both rounds of Pfizer vaccine in April 2021 - just got the booster 11/5/21.',\n",
       "  'The first 2 shots had barely any side effects, just a sore arm but the booster knocked me out about 24 hours later.',\n",
       "  'I had to leave work I was so exhausted and immediately took a 3 hour nap.',\n",
       "  \"Now over 6 weeks later I'm having pretty bad joint pain which is new for me.\",\n",
       "  \"I'm 30 years old and pretty healthy/active.\",\n",
       "  \"It started with my left wrist (injected in left arm) but now it's both wrists, elbows, shoulders, and knees.\",\n",
       "  \"Still haven't gotten covid even though I've been exposed several times so I'm grateful for that.\",\n",
       "  \"Just weird how I can hear my left wrist especially make a grinding noise and I've lost full range of motion.\",\n",
       "  'Stay safe and take care of yourselves <3'],\n",
       " [\"This is a hard vaccine to rate, because I don't know how effective it is yet but I am hoping it gets me through omicron.NOTE - I am now 2 and half weeks passed the shot.\",\n",
       "  \"I had the J&J for the vaccine, and Pfizer was my booster.People usually some to these forums when things go wrong, or just to complain so I will be detailed here:I tend to have allergies, so my immune system overreacts a lot; it is not like most other people's, and I always prepare for a worse reaction.\",\n",
       "  'In my experience, the side effects were much worse than J&J but I think Pfizer provides better protection.Day one: I felt fine the day of the shot, then woke up at night with aches, chills and fever.',\n",
       "  'The worst was I day two, I felt like I had the flu.',\n",
       "  'I was very weak and very, very exhausted; I had swollen lymphs under arm, mild headache, mild rash on chest.',\n",
       "  'I slept most of the day and all through the next night.',\n",
       "  'Day three, I felt better but was still achy and had a headache, body aches and swollen joints.',\n",
       "  'I avoided pain reliever because I know it mutes the immune system, so I just opted to suffer through.By Day four or five I felt much better, maybe some mild fatigue.The next week, day seven: I got some diarrhea and upset stomach.',\n",
       "  'Day eight: new muscle pain - I pulled one muscle, then a second muscle on day nine.',\n",
       "  'I cannot say for sure this is from the vaccine, but it seemed weird.',\n",
       "  'My feeling is that my immune system is still in fifth gear.Now, at day seventeen, I still have a few swollen muscles and joints.I am still happy I got the vaccine.',\n",
       "  \"I just wish they could refine it so people like me don't have such strong reactions.\",\n",
       "  'Maybe a lower dose will come in the future.'],\n",
       " ['1st &2nd doses in March were fine, a little pain at injection site but not anything else.',\n",
       "  'Booster today, 45 min later I was in a ambulance.',\n",
       "  'My right leg swole and started dark bruising on upper thigh, next thing I knew I had fainted (not something I do) and paramedics were on site.',\n",
       "  'They gave me 3 medications for allergic reaction and transported me to hosp.',\n",
       "  'Blood work all came back normal and I was discharged 3 hours later perfectly fine with no answer.',\n",
       "  'Still have very deep bruising and pain in leg at that site, but otherwise ok.',\n",
       "  'Shot was given in upper left arm.',\n",
       "  'I am 43, no underlying conditions and reasonably healthy.',\n",
       "  \"I'd still choose this over getting covid.\"],\n",
       " ['Got 2 doses of Pfizer.',\n",
       "  'Felt fine after bothi was a little tired for a couple days.My entire family got covid, they all chose not to get the vaccine.',\n",
       "  \"I ended up being the only one who didn't catch it.\"],\n",
       " ['Blood Type 0-: 1st pfizer Covid shot in March 2021, three days later left ankle blew up painful to walk on, Iced for three days eventually went away.',\n",
       "  '2nd pfizer Covid 19 shot in May 2021, left ankle blew up painful to walk on, iced and three days later went away.',\n",
       "  'Nov 24th pfizer booster shot, so far my left calf muscle is super warm no ankle swelling yet, but we shall see.',\n",
       "  'All all vitals perfect, no headaches, etc.',\n",
       "  \"Even stopped my runny nose I've had the last several weeks.\",\n",
       "  'I guess we all react a bit differently.'],\n",
       " ['No side effects after Covid vaccine #1.',\n",
       "  'Only experienced a brief period of fatigue after Covid #2 and #3 (booster).'],\n",
       " ['I had no problems after either of the first 2 Moderna vaccinations.',\n",
       "  'With the booster I am experiencing a lot of pain in my left foot, heal and left side of my foot, as well my left arm is much more soar than with of the other 2 shots.',\n",
       "  'I took 2 Ibuprofen and I’m doing a warm foot soak with Epsom salts.',\n",
       "  'I’m not even sure if this is related to the booster, but it appeared about an hour after the shot, so probably it is.',\n",
       "  'It’s important to note that I didn’t drink as much water as I usually do, so that played a roll.',\n",
       "  'As a phlebotomist I know veins will narrow dramatically without hydration.'],\n",
       " ['First vaccine I had a bad migraine for two days, flu like symptoms.',\n",
       "  'Then pains in my toes, again with the second vaccine pains in toes and joints this time sickness for 3 days.',\n",
       "  'Now with the booster I decided drink lots of water and take painkillers before the vaccine.',\n",
       "  'Joint pain and very painful toes again only had the jab 3 days ago but feel very tired.'],\n",
       " ['Covid Booster, experienced fatigue for 48 hours, extreme chills for 4 hours, slight headache on/off 12 hours, lower GI distress 1st 24 hrs & continuing slightly 2+ days, a lot of sharp tingling sensation in feet starting 36 hrs after and continuing 3 days out & actually increasing, muscles achy 1st 12 hrs out for 12 hours.',\n",
       "  'All worth it!!',\n",
       "  \"Thank you healthcare providers & vaccine mfg's, we love you!\",\n",
       "  '!'],\n",
       " ['This is a third dose (booster) report.',\n",
       "  'i recieved the dose on Monday October 18th.',\n",
       "  'by Tuesday morning October 19th, I noticed that all of my joints were aching and I could not close or clasp my hands without severe pain.',\n",
       "  'its now Friday October 22nd, and most of the pain has left but hand joints continue to hurt'],\n",
       " ['10 days after having 2nd vaccination, swollen left foot and burning sensation bottom of both feet.Went to doctor on day 15, got a cortisone injection, has relieved a lot of swelling and burning sensation in the feet.I do have Ckd and kidneys only functioning at 18%'],\n",
       " ['Sore arm , feeling weak , tired and sleepy .',\n",
       "  \"I also suffer of sciatica  , and I can't believe that after the vaccine I have not felt any pain on my back that's a miracle .\"],\n",
       " ['I feel GREAT!!', '!']]"
      ]
     },
     "execution_count": 38,
     "metadata": {},
     "output_type": "execute_result"
    }
   ],
   "source": [
    "review_word_list = []\n",
    "for n in text_array:\n",
    "    text_t = sent_tokenize(n)\n",
    "    review_word_list.append(text_t)\n",
    "\n",
    "review_word_list"
   ]
  },
  {
   "cell_type": "code",
   "execution_count": 39,
   "id": "f7a50604-586c-4565-8a90-5c41773717b0",
   "metadata": {},
   "outputs": [],
   "source": [
    "# from nltk.corpus import stopwords\n",
    "# from nltk.tokenize import word_tokenize"
   ]
  },
  {
   "cell_type": "code",
   "execution_count": 40,
   "id": "68ee4a90-4722-4f27-b5bb-825cb90fd92b",
   "metadata": {},
   "outputs": [],
   "source": [
    "# stop_words_list = stopwords.words('english')\n",
    "# print(stop_words_list)"
   ]
  },
  {
   "cell_type": "code",
   "execution_count": 41,
   "id": "4e30a9c1-a8c7-4970-bb01-c1774801ff6d",
   "metadata": {
    "tags": []
   },
   "outputs": [],
   "source": [
    "# ### 불용어 제거하고 돌려보기 위한 코드 -- 얘 지우면 불용어 다시 들어감 -- 이 sentiment Intensity Analyzer에 관한 document 예제에서는 안하기는 함\n",
    "# for sentlist in review_word_list:\n",
    "#     i = 0\n",
    "#     for sent in sentlist:\n",
    "#         w_token = word_tokenize(sent)\n",
    "#         new_sent_w = []\n",
    "#         for word in w_token:\n",
    "#             if (word in stop_words_list) == False:\n",
    "#                 new_sent_w.append(word)\n",
    "#         new_sent = \" \".join(new_sent_w)\n",
    "#         sentlist[i] = new_sent\n",
    "#         i = i + 1\n",
    "        \n",
    "# review_word_list\n",
    "        "
   ]
  },
  {
   "cell_type": "code",
   "execution_count": 42,
   "id": "189889d7-df11-4b1a-9a57-4c655b345a6f",
   "metadata": {},
   "outputs": [],
   "source": [
    "from nltk.sentiment.vader import SentimentIntensityAnalyzer\n",
    "sid = SentimentIntensityAnalyzer()"
   ]
  },
  {
   "cell_type": "code",
   "execution_count": 43,
   "id": "68ea9a51-8b48-42fb-b419-5883ca022510",
   "metadata": {},
   "outputs": [
    {
     "data": {
      "text/plain": [
       "[-0.5276000000000001,\n",
       " -0.46919999999999995,\n",
       " -0.6554,\n",
       " 1.3084,\n",
       " 2.1057,\n",
       " -0.07509999999999994,\n",
       " -0.43359999999999993,\n",
       " 0.04949999999999999,\n",
       " -2.3813999999999997,\n",
       " 0.4294,\n",
       " -0.204,\n",
       " -0.23149999999999998,\n",
       " -0.546,\n",
       " -0.25329999999999997,\n",
       " -2.0576,\n",
       " 0.3829,\n",
       " -0.2037,\n",
       " 0.3818,\n",
       " -0.3191,\n",
       " 0.7519]"
      ]
     },
     "execution_count": 43,
     "metadata": {},
     "output_type": "execute_result"
    }
   ],
   "source": [
    "list_sentiment = []\n",
    "for x in review_word_list:\n",
    "    i = 0\n",
    "    for y in x:\n",
    "        sentiment = sid.polarity_scores(y)\n",
    "        i = i + sentiment['compound']\n",
    "    list_sentiment.append(i)\n",
    "    \n",
    "list_sentiment"
   ]
  },
  {
   "cell_type": "code",
   "execution_count": 44,
   "id": "e35c5c43-6fdd-4d5e-9674-5ec86e288603",
   "metadata": {},
   "outputs": [
    {
     "name": "stdout",
     "output_type": "stream",
     "text": [
      "neg :  -8.3575\n",
      "pos :  5.409600000000001\n"
     ]
    }
   ],
   "source": [
    "pos = 0\n",
    "neg = 0\n",
    "\n",
    "for s in list_sentiment:\n",
    "    if (s < 0):\n",
    "        neg = neg + s\n",
    "    else:\n",
    "        pos = pos + s\n",
    "print('neg : ', neg)\n",
    "print('pos : ', pos)\n"
   ]
  },
  {
   "cell_type": "code",
   "execution_count": null,
   "id": "c1162d50-1ea5-43c5-8e40-9078a0d41589",
   "metadata": {},
   "outputs": [],
   "source": []
  }
 ],
 "metadata": {
  "kernelspec": {
   "display_name": "Python 3 (ipykernel)",
   "language": "python",
   "name": "python3"
  },
  "language_info": {
   "codemirror_mode": {
    "name": "ipython",
    "version": 3
   },
   "file_extension": ".py",
   "mimetype": "text/x-python",
   "name": "python",
   "nbconvert_exporter": "python",
   "pygments_lexer": "ipython3",
   "version": "3.9.7"
  }
 },
 "nbformat": 4,
 "nbformat_minor": 5
}
