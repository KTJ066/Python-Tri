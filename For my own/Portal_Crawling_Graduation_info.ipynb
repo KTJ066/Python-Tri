{
 "cells": [
  {
   "cell_type": "code",
   "execution_count": null,
   "id": "ffb8ad6f-ef34-4349-889b-ed96b4e4ce9f",
   "metadata": {},
   "outputs": [],
   "source": [
    "import requests\n",
    "from bs4 import BeautifulSoup ##html 싹 가져와주는 애\n",
    "from selenium import webdriver ##웹드라이버 돌려주는애\n",
    "import pandas as pd\n",
    "import time\n",
    "\n",
    "webdriver_options = webdriver.ChromeOptions()\n",
    "webdriver_options.add_argument('headless') ##창 띄우지 만 상태에서 알아서 해라\n",
    "webdriver_options.add_argument('window-size=1920x1080') ## 창 사이즈 지정해줘야 렉 안 먹음\n",
    "webdriver_options.add_argument(\"disable-gpu\") ##크롬드라이버가 gpu 부스터를 쓰기 때문에 가끔렉 먹는거 방지용\n",
    "webdriver_options.add_argument(\"lang=ko-KR\") ##위에 코드 3개가 쓰면 영어로 전체를 돌려버려서 언어 한국말로 바꿔주기\n",
    "\n",
    "driver = webdriver.Chrome('/Users/jonghyunkim/Downloads/chromedriver', options=webdriver_options) ##위에 정한 옵션으로 크롬을 실행하라\n",
    "\n",
    "url = 'https://portal.korea.ac.kr/front/Intro.kpd'\n",
    "driver.implicitly_wait(3) ## 드라이버 실행까지 시간이 좀 있으니 기다려 주는 역할\n",
    "driver.get(url)\n",
    "# driver.maximize_window() ## 창 전체화면 하기\n",
    "\n",
    "##로그인 하기 \n",
    "driver.find_element_by_name('id').send_keys('your id')\n",
    "driver.find_element_by_name('pw').send_keys('your pw')\n",
    "driver.find_element_by_xpath('//*[@id=\"loginsubmit\"]').click()\n",
    "\n",
    "driver.implicitly_wait(5) ## 로딩도 안됐는데 xpath 클릭하면 에러 뜨니까 기다려주는 역할\n",
    "driver.find_element_by_xpath('//*[@id=\"header\"]/div[2]/div/div/ul/li[4]/a').click() ##학적 졸업 클릭\n",
    "\n",
    "driver.find_element_by_xpath('//*[@id=\"m127\"]/a').click() ##졸업정보 클릭\n",
    "driver.find_element_by_xpath('//*[@id=\"sm289\"]/a').click() ##졸업사정표 클릭\n",
    "\n",
    "time.sleep(5) ## 잠시 기다려!\n",
    "\n",
    "from selenium.webdriver.common.alert import Alert ##경고창 뜨는거 제어하는 Alert 함수 불러오기\n",
    "Alert(driver).accept() ##경고창에 확인버튼 눌러주는 역할 ---------\n",
    "\n",
    "time.sleep(3) ## 잠시 기다려!\n",
    "\n",
    "driver.switch_to.frame('_component') ## iframe 안에 있어서 테이블이 있어서 탐색이 안되는 문제를 해결 --> 이 경우는 iframe 안에 이름이 _component라서 그렇게 찾아준거\n",
    "\n",
    "soup = BeautifulSoup(driver.page_source, 'lxml') ## parsing 한거\n",
    "\n",
    "\n",
    "## 이제 표들에서 데이터를 끌어와야 한다\n",
    "element_table = soup.find_all(name='table')\n",
    "table = pd.read_html(str(element_table))\n",
    "\n",
    "\n",
    "driver.quit()\n",
    "\n",
    "print(type(table[0]))\n",
    "table[2]\n",
    "\n"
   ]
  },
  {
   "cell_type": "code",
   "execution_count": null,
   "id": "efbbc73d-5ee4-4fc8-b1a2-fea61104e0da",
   "metadata": {},
   "outputs": [],
   "source": [
    "table[0].to_excel('졸업미달 학점(경영).xlsx')\n",
    "table[1].to_excel('졸업사정표1.xlsx')\n",
    "table[2].to_excel('졸업사정표2.xlsx')\n",
    "table[3].to_excel('졸업사정표3.xlsx')"
   ]
  },
  {
   "cell_type": "code",
   "execution_count": null,
   "id": "a25537f5-05fd-42f0-a4e0-4f129503b0c7",
   "metadata": {},
   "outputs": [],
   "source": []
  }
 ],
 "metadata": {
  "kernelspec": {
   "display_name": "Python 3 (ipykernel)",
   "language": "python",
   "name": "python3"
  },
  "language_info": {
   "codemirror_mode": {
    "name": "ipython",
    "version": 3
   },
   "file_extension": ".py",
   "mimetype": "text/x-python",
   "name": "python",
   "nbconvert_exporter": "python",
   "pygments_lexer": "ipython3",
   "version": "3.9.7"
  }
 },
 "nbformat": 4,
 "nbformat_minor": 5
}
