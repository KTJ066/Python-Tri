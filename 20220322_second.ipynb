{
 "cells": [
  {
   "cell_type": "code",
   "execution_count": 1,
   "id": "c30dc37f-41a7-4d95-ac4a-c225ba135c3b",
   "metadata": {},
   "outputs": [],
   "source": [
    "from bs4 import BeautifulSoup\n",
    "import urllib.request as req"
   ]
  },
  {
   "cell_type": "code",
   "execution_count": 5,
   "id": "7bfb878c-971c-4894-9f36-2302d5b4e411",
   "metadata": {},
   "outputs": [],
   "source": [
    "url = \"http://www.byungwan.com/class/Assignment0.html\"\n",
    "html = req.urlopen(url)\n",
    "doc = BeautifulSoup(html, \"html.parser\")"
   ]
  },
  {
   "cell_type": "code",
   "execution_count": 7,
   "id": "a52ee64b-c226-4542-abe3-94550f744ac8",
   "metadata": {},
   "outputs": [
    {
     "name": "stdout",
     "output_type": "stream",
     "text": [
      "<html>\n",
      " <head>\n",
      "  <title>\n",
      "   Assignment 01\n",
      "  </title>\n",
      " </head>\n",
      " <body>\n",
      "  <h1>\n",
      "   Top rated movies\n",
      "  </h1>\n",
      "  <p class=\"top\">\n",
      "   <a href=\"https://www.imdb.com/title/tt0111161/\">\n",
      "    The Shawshank Redemption (1994)\n",
      "   </a>\n",
      "  </p>\n",
      "  <p class=\"top\">\n",
      "   <a href=\"https://www.imdb.com/title/tt0068646/\">\n",
      "    Daeboo (1972)\n",
      "   </a>\n",
      "  </p>\n",
      "  <p class=\"top\">\n",
      "   <a href=\"https://www.imdb.com/title/tt0071562/\">\n",
      "    The Godfather: Part II (1974)\n",
      "   </a>\n",
      "  </p>\n",
      "  <p class=\"top\">\n",
      "   <a href=\"https://www.imdb.com/title/tt0468569/\">\n",
      "    The Dark Knight (2008)\n",
      "   </a>\n",
      "  </p>\n",
      "  <p class=\"top\">\n",
      "   <a href=\"https://www.imdb.com/title/tt0050083/\">\n",
      "    12 Angry Men (1957)\n",
      "   </a>\n",
      "  </p>\n",
      "  <p class=\"top\">\n",
      "   <a href=\"https://www.imdb.com/title/tt0108052/\">\n",
      "    Schindler's List (1993)\n",
      "   </a>\n",
      "  </p>\n",
      "  <p class=\"top\">\n",
      "   <a href=\"https://www.imdb.com/title/tt0167260/\">\n",
      "    The Lord of the Rings: The Return of the King (2003)\n",
      "   </a>\n",
      "  </p>\n",
      "  <p class=\"top\">\n",
      "   <a href=\"https://www.imdb.com/title/tt0110912/\">\n",
      "    Pulp Fiction (1994)\n",
      "   </a>\n",
      "  </p>\n",
      "  <p class=\"top\">\n",
      "   <a href=\"https://www.imdb.com/title/tt0060196/\">\n",
      "    Il buono, il brutto, il cattivo (1966)\n",
      "   </a>\n",
      "  </p>\n",
      "  <p class=\"top\">\n",
      "   <a href=\"https://www.imdb.com/title/tt0120737/\">\n",
      "    The Lord of the Rings: The Fellowship of the Ring (2001)\n",
      "   </a>\n",
      "  </p>\n",
      " </body>\n",
      "</html>\n"
     ]
    }
   ],
   "source": [
    "print(doc.prettify())"
   ]
  },
  {
   "cell_type": "code",
   "execution_count": 9,
   "id": "8da1dea5-ee66-4dee-ba41-bf7ca6eed072",
   "metadata": {},
   "outputs": [
    {
     "data": {
      "text/plain": [
       "[<p class=\"top\"><a href=\"https://www.imdb.com/title/tt0111161/\">The Shawshank Redemption (1994)</a></p>,\n",
       " <p class=\"top\"><a href=\"https://www.imdb.com/title/tt0068646/\">Daeboo (1972)</a></p>,\n",
       " <p class=\"top\"><a href=\"https://www.imdb.com/title/tt0071562/\">The Godfather: Part II (1974)</a></p>,\n",
       " <p class=\"top\"><a href=\"https://www.imdb.com/title/tt0468569/\">The Dark Knight (2008)</a></p>,\n",
       " <p class=\"top\"><a href=\"https://www.imdb.com/title/tt0050083/\">12 Angry Men (1957)</a></p>,\n",
       " <p class=\"top\"><a href=\"https://www.imdb.com/title/tt0108052/\">Schindler's List (1993)</a></p>,\n",
       " <p class=\"top\"><a href=\"https://www.imdb.com/title/tt0167260/\">The Lord of the Rings: The Return of the King (2003)</a></p>,\n",
       " <p class=\"top\"><a href=\"https://www.imdb.com/title/tt0110912/\">Pulp Fiction (1994)</a></p>,\n",
       " <p class=\"top\"><a href=\"https://www.imdb.com/title/tt0060196/\">Il buono, il brutto, il cattivo (1966)</a></p>,\n",
       " <p class=\"top\"><a href=\"https://www.imdb.com/title/tt0120737/\">The Lord of the Rings: The Fellowship of the Ring (2001)</a></p>]"
      ]
     },
     "execution_count": 9,
     "metadata": {},
     "output_type": "execute_result"
    }
   ],
   "source": [
    "ps = doc.find_all(\"p\") ##내가 맘대로 한거\n",
    "ps"
   ]
  },
  {
   "cell_type": "code",
   "execution_count": 10,
   "id": "7b312064-f82c-4b90-9f73-40c68ec85d4f",
   "metadata": {},
   "outputs": [
    {
     "data": {
      "text/plain": [
       "'The Shawshank Redemption (1994)'"
      ]
     },
     "execution_count": 10,
     "metadata": {},
     "output_type": "execute_result"
    }
   ],
   "source": [
    "ps[0].string ##내가 맘대로 한거"
   ]
  },
  {
   "cell_type": "code",
   "execution_count": 11,
   "id": "a4509543-6c5c-4f09-9bb1-bda9173d5775",
   "metadata": {},
   "outputs": [
    {
     "name": "stdout",
     "output_type": "stream",
     "text": [
      "The Shawshank Redemption (1994)\n",
      "Daeboo (1972)\n",
      "The Godfather: Part II (1974)\n",
      "The Dark Knight (2008)\n",
      "12 Angry Men (1957)\n",
      "Schindler's List (1993)\n",
      "The Lord of the Rings: The Return of the King (2003)\n",
      "Pulp Fiction (1994)\n",
      "Il buono, il brutto, il cattivo (1966)\n",
      "The Lord of the Rings: The Fellowship of the Ring (2001)\n"
     ]
    }
   ],
   "source": [
    "for p in ps: ##내가 맘대로 한거\n",
    "    print(p.string)"
   ]
  },
  {
   "cell_type": "code",
   "execution_count": 12,
   "id": "144900e7-04d3-425c-8f96-b93cc6ff1193",
   "metadata": {},
   "outputs": [],
   "source": [
    "links = doc.find_all(\"a\") ##태그 이름 이용해서 크롤링"
   ]
  },
  {
   "cell_type": "code",
   "execution_count": 16,
   "id": "3d802f3d-b930-4f2c-8f17-88016072f14e",
   "metadata": {},
   "outputs": [
    {
     "name": "stdout",
     "output_type": "stream",
     "text": [
      "The Shawshank Redemption (1994): https://www.imdb.com/title/tt0111161/\n",
      "Daeboo (1972): https://www.imdb.com/title/tt0068646/\n",
      "The Godfather: Part II (1974): https://www.imdb.com/title/tt0071562/\n",
      "The Dark Knight (2008): https://www.imdb.com/title/tt0468569/\n",
      "12 Angry Men (1957): https://www.imdb.com/title/tt0050083/\n",
      "Schindler's List (1993): https://www.imdb.com/title/tt0108052/\n",
      "The Lord of the Rings: The Return of the King (2003): https://www.imdb.com/title/tt0167260/\n",
      "Pulp Fiction (1994): https://www.imdb.com/title/tt0110912/\n",
      "Il buono, il brutto, il cattivo (1966): https://www.imdb.com/title/tt0060196/\n",
      "The Lord of the Rings: The Fellowship of the Ring (2001): https://www.imdb.com/title/tt0120737/\n"
     ]
    }
   ],
   "source": [
    "for l in links:\n",
    "    name = l.string\n",
    "    url = l[\"href\"]\n",
    "    print(name + \": \" + url)"
   ]
  },
  {
   "cell_type": "code",
   "execution_count": 23,
   "id": "5cc34bfc-56e2-4927-88a7-27c0b6c2e22a",
   "metadata": {},
   "outputs": [
    {
     "data": {
      "text/plain": [
       "[<p class=\"top\"><a href=\"https://www.imdb.com/title/tt0111161/\">The Shawshank Redemption (1994)</a></p>,\n",
       " <p class=\"top\"><a href=\"https://www.imdb.com/title/tt0068646/\">Daeboo (1972)</a></p>,\n",
       " <p class=\"top\"><a href=\"https://www.imdb.com/title/tt0071562/\">The Godfather: Part II (1974)</a></p>,\n",
       " <p class=\"top\"><a href=\"https://www.imdb.com/title/tt0468569/\">The Dark Knight (2008)</a></p>,\n",
       " <p class=\"top\"><a href=\"https://www.imdb.com/title/tt0050083/\">12 Angry Men (1957)</a></p>,\n",
       " <p class=\"top\"><a href=\"https://www.imdb.com/title/tt0108052/\">Schindler's List (1993)</a></p>,\n",
       " <p class=\"top\"><a href=\"https://www.imdb.com/title/tt0167260/\">The Lord of the Rings: The Return of the King (2003)</a></p>,\n",
       " <p class=\"top\"><a href=\"https://www.imdb.com/title/tt0110912/\">Pulp Fiction (1994)</a></p>,\n",
       " <p class=\"top\"><a href=\"https://www.imdb.com/title/tt0060196/\">Il buono, il brutto, il cattivo (1966)</a></p>,\n",
       " <p class=\"top\"><a href=\"https://www.imdb.com/title/tt0120737/\">The Lord of the Rings: The Fellowship of the Ring (2001)</a></p>]"
      ]
     },
     "execution_count": 23,
     "metadata": {},
     "output_type": "execute_result"
    }
   ],
   "source": [
    "tops = doc.find_all(class_ = \"top\") ##class 이용해서 하는 방법\n",
    "tops"
   ]
  },
  {
   "cell_type": "code",
   "execution_count": 22,
   "id": "3a28fff0-b2be-4890-97d8-95161477ec0a",
   "metadata": {},
   "outputs": [
    {
     "data": {
      "text/plain": [
       "<p class=\"top\"><a href=\"https://www.imdb.com/title/tt0111161/\">The Shawshank Redemption (1994)</a></p>"
      ]
     },
     "execution_count": 22,
     "metadata": {},
     "output_type": "execute_result"
    }
   ],
   "source": [
    "tops[0]"
   ]
  },
  {
   "cell_type": "code",
   "execution_count": 26,
   "id": "e8c0eebe-9bbb-484c-9828-22717d2806ae",
   "metadata": {},
   "outputs": [
    {
     "data": {
      "text/plain": [
       "'The Shawshank Redemption (1994)'"
      ]
     },
     "execution_count": 26,
     "metadata": {},
     "output_type": "execute_result"
    }
   ],
   "source": [
    "tops[0].a.string ##tops에서 a 태그 안에 있는 string을 불러와라"
   ]
  },
  {
   "cell_type": "code",
   "execution_count": 29,
   "id": "73da3fb5-41e5-4396-bb9a-a161cc71bb08",
   "metadata": {},
   "outputs": [
    {
     "data": {
      "text/plain": [
       "{'class': ['top']}"
      ]
     },
     "execution_count": 29,
     "metadata": {},
     "output_type": "execute_result"
    }
   ],
   "source": [
    "tops[0].attrs"
   ]
  },
  {
   "cell_type": "code",
   "execution_count": 30,
   "id": "904417f5-0f70-4e0b-ac58-265a87f88cf1",
   "metadata": {},
   "outputs": [
    {
     "data": {
      "text/plain": [
       "{'href': 'https://www.imdb.com/title/tt0111161/'}"
      ]
     },
     "execution_count": 30,
     "metadata": {},
     "output_type": "execute_result"
    }
   ],
   "source": [
    "tops[0].a.attrs"
   ]
  },
  {
   "cell_type": "code",
   "execution_count": 32,
   "id": "8218984c-1d4f-4737-886b-4b7ecdd4ee13",
   "metadata": {},
   "outputs": [
    {
     "data": {
      "text/plain": [
       "'https://www.imdb.com/title/tt0111161/'"
      ]
     },
     "execution_count": 32,
     "metadata": {},
     "output_type": "execute_result"
    }
   ],
   "source": [
    "tops[0].a.attrs[\"href\"]"
   ]
  },
  {
   "cell_type": "code",
   "execution_count": 34,
   "id": "5e391f96-f9af-4edd-a392-da79e32b5555",
   "metadata": {},
   "outputs": [
    {
     "data": {
      "text/plain": [
       "'https://www.imdb.com/title/tt0111161/'"
      ]
     },
     "execution_count": 34,
     "metadata": {},
     "output_type": "execute_result"
    }
   ],
   "source": [
    "tops[0].a[\"href\"]"
   ]
  },
  {
   "cell_type": "code",
   "execution_count": 35,
   "id": "a84babcf-75ca-4dd0-a48d-19c08117d4f5",
   "metadata": {},
   "outputs": [
    {
     "name": "stdout",
     "output_type": "stream",
     "text": [
      "The Shawshank Redemption (1994): https://www.imdb.com/title/tt0111161/\n",
      "Daeboo (1972): https://www.imdb.com/title/tt0068646/\n",
      "The Godfather: Part II (1974): https://www.imdb.com/title/tt0071562/\n",
      "The Dark Knight (2008): https://www.imdb.com/title/tt0468569/\n",
      "12 Angry Men (1957): https://www.imdb.com/title/tt0050083/\n",
      "Schindler's List (1993): https://www.imdb.com/title/tt0108052/\n",
      "The Lord of the Rings: The Return of the King (2003): https://www.imdb.com/title/tt0167260/\n",
      "Pulp Fiction (1994): https://www.imdb.com/title/tt0110912/\n",
      "Il buono, il brutto, il cattivo (1966): https://www.imdb.com/title/tt0060196/\n",
      "The Lord of the Rings: The Fellowship of the Ring (2001): https://www.imdb.com/title/tt0120737/\n"
     ]
    }
   ],
   "source": [
    "for t in tops:\n",
    "    name = t.string\n",
    "    url = t.a[\"href\"]\n",
    "    print(name + \": \" + url)"
   ]
  },
  {
   "cell_type": "code",
   "execution_count": null,
   "id": "893d18e6-f83d-42bb-bf25-04044cb38026",
   "metadata": {},
   "outputs": [],
   "source": []
  }
 ],
 "metadata": {
  "kernelspec": {
   "display_name": "Python 3 (ipykernel)",
   "language": "python",
   "name": "python3"
  },
  "language_info": {
   "codemirror_mode": {
    "name": "ipython",
    "version": 3
   },
   "file_extension": ".py",
   "mimetype": "text/x-python",
   "name": "python",
   "nbconvert_exporter": "python",
   "pygments_lexer": "ipython3",
   "version": "3.9.7"
  }
 },
 "nbformat": 4,
 "nbformat_minor": 5
}
