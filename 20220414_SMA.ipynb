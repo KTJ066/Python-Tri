{
 "cells": [
  {
   "cell_type": "code",
   "execution_count": 1,
   "id": "796d3af9-88a4-4d80-a9b2-3b1ef0b777de",
   "metadata": {},
   "outputs": [],
   "source": [
    "import urllib.request as req\n",
    "from bs4 import BeautifulSoup\n",
    "from selenium import webdriver\n",
    "from selenium.webdriver.common.by import By\n",
    "from time import sleep"
   ]
  },
  {
   "cell_type": "code",
   "execution_count": null,
   "id": "6daafe1f-4c2e-4a93-8627-1e5657171671",
   "metadata": {},
   "outputs": [],
   "source": [
    "driver = webdriver.Chrome('/Users/jonghyunkim/repo/Tristan/chromedriver')\n",
    "\n",
    "url = 'https://www.tripadvisor.com/Restaurants-g294197-zfn15566165-Seoul.html'\n",
    "\n",
    "driver.get(url)"
   ]
  },
  {
   "cell_type": "code",
   "execution_count": null,
   "id": "c7f7481a-3c9f-46b0-8499-2d8d15f26813",
   "metadata": {},
   "outputs": [],
   "source": [
    "search = driver.find_element(By.CSS_SELECTOR), \"input.fhEMT._G.B-.Z       \")"
   ]
  },
  {
   "cell_type": "code",
   "execution_count": null,
   "id": "28e45ffd-1aa0-46a3-9ad9-023d678d055d",
   "metadata": {},
   "outputs": [],
   "source": [
    "from selenium.webdriver.common.keys import Keys"
   ]
  },
  {
   "cell_type": "code",
   "execution_count": null,
   "id": "6f44e97c-eb09-4b01-9986-3a204e52e308",
   "metadata": {},
   "outputs": [],
   "source": [
    "search.send_keys(\"Korea University\" + Keys.ENTER)"
   ]
  }
 ],
 "metadata": {
  "kernelspec": {
   "display_name": "Python 3 (ipykernel)",
   "language": "python",
   "name": "python3"
  },
  "language_info": {
   "codemirror_mode": {
    "name": "ipython",
    "version": 3
   },
   "file_extension": ".py",
   "mimetype": "text/x-python",
   "name": "python",
   "nbconvert_exporter": "python",
   "pygments_lexer": "ipython3",
   "version": "3.9.7"
  }
 },
 "nbformat": 4,
 "nbformat_minor": 5
}
